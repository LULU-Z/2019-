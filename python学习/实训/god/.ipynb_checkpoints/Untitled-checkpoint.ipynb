{
 "cells": [
  {
   "cell_type": "code",
   "execution_count": null,
   "metadata": {
    "collapsed": true
   },
   "outputs": [],
   "source": [
    "import re\n",
    "from urllib import request\n",
    "from bs4 import BeautifulSoup\n",
    "import io\n",
    "import sys\n",
    "import codecs\n",
    "\n",
    "\n",
    "# sys.stdout = io.TextIOWrapper(sys.stdout.buffer,encoding='utf8') #改变标准输出的默认编码\n",
    "# sys.stdout = io.TextIOWrapper(sys.stdout.buffer,encoding='gb18030') \n",
    "class JD():\n",
    "    url='https://search.jd.com/Search?keyword=%E9%87%91%E6%9D%A1&enc=utf-8&wq=%E9%87%91%E6%9D%A1&pvid=82c916a4bba3483e9c0e9278b574eba9'\n",
    "    name_pattern='<em>([\\s\\S]*?)<font class=\"skcolor_ljg\">'\n",
    "    def __fetch_content(self):\n",
    "        r=request.urlopen(JD.url)\n",
    "        htmls=r.read()\n",
    "        htmls=str(htmls,encoding='utf-8')\n",
    "        # print(type(htmls))\n",
    "        return htmls\n",
    "        # print(type(htmls))\n",
    "        # f = codecs.open('JD.doc','w','utf-8')\n",
    "        # f.write(htmls)\n",
    "        # f.close\n",
    "    \n",
    "    def __analysis(self,htmls):\n",
    "        anchors=[]\n",
    "        soup = BeautifulSoup(htmls,\"lxml\")\n",
    "        a=soup.find_all(class_='gl-warp clearfix')\n",
    "        for AgAu in a:\n",
    "            Price=AgAu.find_all(class_='p-price')\n",
    "            for price in Price:\n",
    "                print(price.i.string)\n",
    "            Introduce=AgAu.find_all(class_='p-name p-name-type-2')\n",
    "            for introduce in Introduce:\n",
    "                # introduce1=introduce.find_all(name='em')\n",
    "                introduce1=introduce.find_all(text=re.compile('黄金'))\n",
    "                introduce2=introduce.find_all(name='em')\n",
    "                introduce3=introduce.find_all(text=re.compile(JD.name_pattern))\n",
    "                # introduce2=introduce.find_all()\n",
    "                print(introduce1)\n",
    "                print('-----------------------------------------')\n",
    "                print(introduce2)\n",
    "                print('*****************************************')\n",
    "                print(introduce3)\n",
    "            # introduce=AgAu.find_all(name='i')\n",
    "            # print(introduce[1],'\\n')\n",
    "            # print(price)\n",
    "        # print(a)\n",
    "        # for AgAuin soup:\n",
    "        #     name=AgAu.find_all(class_=\"inskcolor_ljg\")\n",
    "        #     print(name)\n",
    "        \n",
    "    def go(self):\n",
    "        htmls=self.__fetch_content()\n",
    "        self.__analysis(htmls)\n",
    "\n",
    "jd=JD()    \n",
    "jd.go()"
   ]
  },
  {
   "cell_type": "code",
   "execution_count": null,
   "metadata": {
    "collapsed": true
   },
   "outputs": [],
   "source": []
  }
 ],
 "metadata": {
  "kernelspec": {
   "display_name": "Python 3",
   "language": "python",
   "name": "python3"
  }
 },
 "nbformat": 4,
 "nbformat_minor": 2
}
