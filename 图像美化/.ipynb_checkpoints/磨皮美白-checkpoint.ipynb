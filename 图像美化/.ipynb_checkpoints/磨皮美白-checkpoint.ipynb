{
 "cells": [
  {
   "cell_type": "code",
   "execution_count": null,
   "metadata": {},
   "outputs": [],
   "source": [
    "#p=p+40 亮度增强\n",
    "#p=p*1.2\n",
    "import cv2\n",
    "import numpy as np\n",
    "import matplotlib.pyplot as plt\n",
    "img=cv2.imread('zll.jpg',1)\n",
    "imgInfo=img.shape\n",
    "height=imgInfo[0]\n",
    "width=imgInfo[1]\n",
    "cv2.imshow('src',img)\n",
    "dst=np.zeros((height,width,3),np.uint8)\n",
    "for i in range(0,height):\n",
    "    for j in range(0,width):\n",
    "        (b,g,r)=img[i,j]\n",
    "        bb=int(b*1.3)+10\n",
    "        gg=int(g*1.2)+15\n",
    "        rr=int(r)\n",
    "        if bb>255:\n",
    "            bb=255\n",
    "        if gg>255:\n",
    "            gg=255\n",
    "        if rr>255:\n",
    "            rr=255\n",
    "        dst[i,j]=(bb,gg,rr)\n",
    "cv2.imshow('dst',dst)\n",
    "cv2.waitKey(0)"
   ]
  },
  {
   "cell_type": "code",
   "execution_count": null,
   "metadata": {},
   "outputs": [],
   "source": [
    "# 双边滤波\n",
    "import cv2\n",
    "import numpy as np\n",
    "img=cv2.imread('zll.png',1)\n",
    "cv2.imshow('src',img)\n",
    "dst=cv2.bilateralFilter(img,15,35,35)\n",
    "cv2.imwrite('dst.png',dst)\n",
    "cv2.imshow('dst',dst)\n",
    "cv2.waitKey(0)"
   ]
  },
  {
   "cell_type": "code",
   "execution_count": null,
   "metadata": {},
   "outputs": [],
   "source": []
  }
 ],
 "metadata": {
  "kernelspec": {
   "display_name": "Python 3",
   "language": "python",
   "name": "python3"
  }
 },
 "nbformat": 4,
 "nbformat_minor": 2
}
