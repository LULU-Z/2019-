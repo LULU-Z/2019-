{
 "cells": [
  {
   "cell_type": "code",
   "execution_count": null,
   "metadata": {
    "scrolled": true
   },
   "outputs": [
    {
     "name": "stdout",
     "output_type": "stream",
     "text": [
      "[[216 236 120  57  92 158  41  46  70  61  68  30 124  49  83  29  49 131\n",
      "   41  57]\n",
      " [252 199 138  34 159 165 148 113  39  54  33  41 193  46  41  81  91  41\n",
      "   69 131]\n",
      " [233 212  99  75 119  94  89  88   0  65  55  32 139 122  71  88  63  84\n",
      "   52  41]\n",
      " [236 181  86 148 144 142 128  55 104 155 188 102  45  44  53  77  25  83\n",
      "   29  97]\n",
      " [236 188  99 168 183 161 162 202  41 166 111  20  61  66  23 100  96  22\n",
      "   41  71]\n",
      " [216 187  84 193 192 187 144 150  62 135 130  19  63  66  26  62  50  69\n",
      "   98  48]\n",
      " [228 167  87 152 162 177 128 131  95 132 149  70  35  65  22  24  42  55\n",
      "   63  47]\n",
      " [233 217  82 242 235 184 165 123 125 123  54 120   9  70  41  44  73  82\n",
      "   37 124]\n",
      " [208 227 255 250 163 130 138 101 132 116 202 205 123  55  47  40  57  68\n",
      "   71  80]\n",
      " [204 235 223 223 204 182  89 153 198 200 163 230 241  58  46  12  67  46\n",
      "   67 113]\n",
      " [153 195 211  54 196  53 227 181 159 109  72 220 230 199   0  49  47  86\n",
      "   74  62]\n",
      " [119 106  94   0  15 103 161 104  68  32   0  97 227 224 105  50  60  47\n",
      "   40  85]\n",
      " [154 147 145  40   0  20  44  15  27  65  75  17 129 220 234  32  44  66\n",
      "   67  37]\n",
      " [160 102  86  98  41 138 152 143 132 111 104  99  83 158 151 132  11  23\n",
      "   22  48]\n",
      " [161 153 183 168 110 132 123 162 176 168 137 121 106  78  90  65  74  79\n",
      "   83  83]\n",
      " [ 89 178 145 164 137 110 131 134 143 129 137 142 140  79  22  80  57 102\n",
      "  195 148]\n",
      " [147 125 115 131 137 148 131 142 150 157 161 142 168 206 127  82  72  57\n",
      "   75 212]]\n"
     ]
    }
   ],
   "source": [
    "import cv2\n",
    "import numpy as np\n",
    "def ImageHist(image,type):\n",
    "    color=(0,0,0)\n",
    "    windowName='Gray'\n",
    "    if type==31:\n",
    "        color=(255,0,0)\n",
    "        windowName='B Hist'\n",
    "    elif type==32:\n",
    "        color=(0,255,0)\n",
    "        windowName='G Hist'\n",
    "    elif type==33:\n",
    "        color=(0,0,255)\n",
    "        windowName='R Hist'\n",
    "    #1 图片数据 img 2计算直方图的通道，灰色直方图的第一个通道所以是0 3 mask 4 直方图分成多少分 256种灰度值 5 0-255 遍历   \n",
    "    hist=cv2.calcHist([image],[0],None,[256],[0.0,255.0])#直方图的统计\n",
    "    minV,maxV,minL,maxL=cv2.minMaxLoc(hist)\n",
    "    histImg=np.zeros([256,256,3],np.uint8)\n",
    "    for h in range(256):\n",
    "        intenNormal=int(hist[h]*256/maxV)\n",
    "        cv2.line(histImg,(h,256),(h,256-intenNormal),color)\n",
    "    cv2.imshow(windowName,histImg)\n",
    "    return histImg\n",
    "img=cv2.imread('image0.jpg',1)\n",
    "channels=cv2.split(img) #图像分解 RGB-》R G B\n",
    "print(channels[0])\n",
    "for i in range(0,3):\n",
    "    ImageHist(channels[i],31+i)\n",
    "cv2.waitKey(0)"
   ]
  },
  {
   "cell_type": "code",
   "execution_count": null,
   "metadata": {},
   "outputs": [],
   "source": []
  }
 ],
 "metadata": {
  "kernelspec": {
   "display_name": "Python 3",
   "language": "python",
   "name": "python3"
  },
  "language_info": {
   "codemirror_mode": {
    "name": "ipython",
    "version": 3
   },
   "file_extension": ".py",
   "mimetype": "text/x-python",
   "name": "python",
   "nbconvert_exporter": "python",
   "pygments_lexer": "ipython3",
   "version": "3.6.8"
  }
 },
 "nbformat": 4,
 "nbformat_minor": 2
}
