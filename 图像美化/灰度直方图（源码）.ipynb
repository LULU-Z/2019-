{
 "cells": [
  {
   "cell_type": "code",
   "execution_count": 9,
   "metadata": {},
   "outputs": [
    {
     "name": "stdout",
     "output_type": "stream",
     "text": [
      "0.004325\n",
      "[  4.58333333e-05   4.04166667e-04   3.75000000e-04   4.20833333e-04\n",
      "   5.04166667e-04   7.25000000e-04   7.16666667e-04   8.45833333e-04\n",
      "   8.75000000e-04   7.70833333e-04   1.08333333e-03   9.33333333e-04\n",
      "   9.75000000e-04   1.05000000e-03   1.07083333e-03   1.22083333e-03\n",
      "   1.20833333e-03   1.27083333e-03   1.49583333e-03   1.40833333e-03\n",
      "   1.52083333e-03   1.46666667e-03   1.72083333e-03   1.72500000e-03\n",
      "   1.59583333e-03   1.90416667e-03   1.93333333e-03   2.27916667e-03\n",
      "   2.18333333e-03   2.39583333e-03   2.37916667e-03   2.47500000e-03\n",
      "   2.58750000e-03   2.55416667e-03   2.84583333e-03   2.78750000e-03\n",
      "   2.95000000e-03   3.05416667e-03   2.91666667e-03   3.12500000e-03\n",
      "   3.09583333e-03   3.26666667e-03   3.54166667e-03   3.31666667e-03\n",
      "   3.57916667e-03   3.71666667e-03   3.90416667e-03   3.75416667e-03\n",
      "   3.80416667e-03   3.95833333e-03   4.03750000e-03   3.92083333e-03\n",
      "   3.82916667e-03   4.10000000e-03   4.14166667e-03   4.15000000e-03\n",
      "   4.38750000e-03   4.30000000e-03   4.27083333e-03   4.41250000e-03\n",
      "   4.24583333e-03   4.56250000e-03   4.40833333e-03   4.90833333e-03\n",
      "   4.50000000e-03   4.50416667e-03   4.57500000e-03   4.99166667e-03\n",
      "   4.57916667e-03   4.53750000e-03   4.54166667e-03   4.75416667e-03\n",
      "   4.62916667e-03   4.75416667e-03   4.69583333e-03   4.79583333e-03\n",
      "   4.65000000e-03   4.77083333e-03   4.78750000e-03   4.69583333e-03\n",
      "   4.67083333e-03   4.83333333e-03   4.87083333e-03   4.57083333e-03\n",
      "   4.63333333e-03   4.58750000e-03   4.62916667e-03   4.57500000e-03\n",
      "   4.45833333e-03   4.83333333e-03   4.41666667e-03   4.59583333e-03\n",
      "   4.37083333e-03   4.40000000e-03   4.40833333e-03   4.21666667e-03\n",
      "   4.42916667e-03   4.27500000e-03   4.49583333e-03   4.38750000e-03\n",
      "   4.32500000e-03   4.21250000e-03   4.37083333e-03   4.51250000e-03\n",
      "   3.98750000e-03   4.48750000e-03   4.01666667e-03   4.51250000e-03\n",
      "   4.47500000e-03   4.17916667e-03   4.15000000e-03   4.13750000e-03\n",
      "   4.05833333e-03   4.21666667e-03   4.02083333e-03   4.18333333e-03\n",
      "   4.27500000e-03   4.01250000e-03   4.00000000e-03   4.19583333e-03\n",
      "   4.15000000e-03   4.02916667e-03   4.22500000e-03   3.95416667e-03\n",
      "   3.94583333e-03   3.85000000e-03   4.21250000e-03   4.00000000e-03\n",
      "   4.03333333e-03   3.82500000e-03   4.09583333e-03   4.15416667e-03\n",
      "   4.10416667e-03   3.92500000e-03   3.91250000e-03   4.08333333e-03\n",
      "   4.17500000e-03   4.06250000e-03   4.17500000e-03   4.20000000e-03\n",
      "   4.24583333e-03   4.33333333e-03   4.34166667e-03   4.26250000e-03\n",
      "   4.36666667e-03   4.23333333e-03   4.26250000e-03   4.33333333e-03\n",
      "   4.45833333e-03   4.43750000e-03   4.37500000e-03   4.43750000e-03\n",
      "   4.47916667e-03   4.43333333e-03   4.46666667e-03   4.35833333e-03\n",
      "   4.34166667e-03   4.50416667e-03   4.57083333e-03   4.69583333e-03\n",
      "   4.32916667e-03   4.52083333e-03   4.62916667e-03   4.46250000e-03\n",
      "   4.69583333e-03   4.38333333e-03   4.41250000e-03   4.37083333e-03\n",
      "   4.47083333e-03   4.73750000e-03   4.52083333e-03   4.45000000e-03\n",
      "   4.63750000e-03   4.50833333e-03   4.38333333e-03   4.41250000e-03\n",
      "   4.29583333e-03   4.39166667e-03   4.44583333e-03   4.40833333e-03\n",
      "   4.50000000e-03   4.22083333e-03   4.34166667e-03   4.24166667e-03\n",
      "   4.18750000e-03   4.25000000e-03   4.14583333e-03   3.89166667e-03\n",
      "   3.85000000e-03   4.07916667e-03   4.05833333e-03   4.13333333e-03\n",
      "   3.87500000e-03   3.77083333e-03   4.08750000e-03   3.86250000e-03\n",
      "   4.17083333e-03   3.98750000e-03   3.84166667e-03   3.73333333e-03\n",
      "   3.85416667e-03   3.87916667e-03   3.57916667e-03   3.86250000e-03\n",
      "   3.72083333e-03   3.68750000e-03   3.83750000e-03   3.88750000e-03\n",
      "   3.84166667e-03   3.76250000e-03   4.08750000e-03   3.86250000e-03\n",
      "   3.93333333e-03   3.74583333e-03   4.27500000e-03   4.18750000e-03\n",
      "   4.02500000e-03   4.30416667e-03   4.08750000e-03   4.28750000e-03\n",
      "   4.24166667e-03   4.23750000e-03   4.26666667e-03   4.17083333e-03\n",
      "   4.07083333e-03   4.18333333e-03   4.19583333e-03   4.35000000e-03\n",
      "   4.24166667e-03   4.32916667e-03   4.19583333e-03   4.42916667e-03\n",
      "   4.67916667e-03   4.76250000e-03   5.15000000e-03   5.36666667e-03\n",
      "   5.09166667e-03   4.88333333e-03   4.45833333e-03   4.40833333e-03\n",
      "   3.80833333e-03   3.72916667e-03   3.68750000e-03   3.47083333e-03\n",
      "   3.32500000e-03   3.35833333e-03   3.31250000e-03   3.33333333e-03\n",
      "   3.47083333e-03   4.01250000e-03   4.44583333e-03   5.30000000e-03\n",
      "   6.48750000e-03   7.70416667e-03   1.21041667e-02   2.66900000e+03]\n"
     ]
    },
    {
     "data": {
      "image/png": "[encoded data removed]",
      "text/plain": [
       "<matplotlib.figure.Figure at 0x1f7a560cba8>"
      ]
     },
     "metadata": {
      "needs_background": "light"
     },
     "output_type": "display_data"
    }
   ],
   "source": [
    "#本质:统计每个像素灰度 出现的概率 横坐标：0-255 256种灰度等级  纵坐标：P\n",
    "import cv2\n",
    "import numpy as np\n",
    "import matplotlib.pyplot as plt\n",
    "img=cv2.imread('image0.jpg',1)\n",
    "imgInfo=img.shape\n",
    "height=imgInfo[0]\n",
    "width=imgInfo[1]\n",
    "gray=cv2.cvtColor(img,cv2.COLOR_BGR2GRAY)\n",
    "count=np.zeros(256,np.float)\n",
    "for i in range(0,height):\n",
    "    for j in range(0,width):\n",
    "        pixel=gray[i,j]\n",
    "        index=int(pixel)\n",
    "        count[index]=count[index]+1\n",
    "for i in range(0,255):\n",
    "    count[i]=count[i]/(height*width)\n",
    "x=np.linspace(0,255,256)\n",
    "y=count\n",
    "print(y)\n",
    "plt.bar(x,y,0.9,alpha=1,color='b')\n",
    "plt.show()"
   ]
  },
  {
   "cell_type": "code",
   "execution_count": 20,
   "metadata": {},
   "outputs": [
    {
     "name": "stdout",
     "output_type": "stream",
     "text": [
      "[ 0.  1.  1.  0.  0.  0.  2.  1.  0.  0.  0.  1.  0.  0.  0.  0.  0.  1.\n",
      "  0.  0.  0.  0.  1.  0.  0.  0.  0.  0.  0.  0.  1.  0.  1.  1.  2.  0.\n",
      "  1.  2.  1.  0.  2.  0.  2.  0.  1.  0.  0.  0.  0.  1.  2.  1.  1.  3.\n",
      "  2.  6.  1.  0.  2.  2.  1.  2.  0.  3.  2.  5.  1.  4.  3.  2.  2.  1.\n",
      "  2.  5.  1.  3.  2.  0.  3.  2.  3.  1.  2.  5.  1.  2.  4.  1.  4.  0.\n",
      "  2.  2.  2.  6.  1.  1.  2.  2.  1.  1.  3.  1.  1.  0.  2.  4.  3.  0.\n",
      "  1.  3.  1.  2.  1.  1.  2.  2.  1.  3.  1.  1.  1.  3.  1.  1.  3.  1.\n",
      "  1.  0.  3.  0.  0.  1.  0.  1.  2.  3.  1.  0.  3.  0.  1.  3.  2.  1.\n",
      "  2.  1.  1.  4.  2.  3.  0.  2.  1.  2.  1.  1.  3.  1.  3.  1.  4.  3.\n",
      "  4.  1.  2.  1.  5.  3.  1.  1.  1.  0.  2.  1.  0.  4.  1.  2.  2.  3.\n",
      "  3.  0.  1.  0.  1.  2.  1.  0.  1.  0.  0.  0.  3.  2.  4.  2.  4.  0.\n",
      "  1.  0.  1.  0.  1.  1.  1.  1.  2.  1.  1.  1.  0.  3.  2.  2.  1.  0.\n",
      "  0.  1.  3.  1.  1.  0.  0.  1.  0.  0.  0.  1.  0.  1.  2.  0.  1.  2.\n",
      "  1.  0.  2.  1.  0.  1.  0.  2.  2.  1.  2.  1.  2.  1.  1.  0.  1.  0.\n",
      "  0.  0.  1.  0.]\n",
      "340\n",
      "[ 0.          0.00294118  0.00294118  0.          0.          0.\n",
      "  0.00588235  0.00294118  0.          0.          0.          0.00294118\n",
      "  0.          0.          0.          0.          0.          0.00294118\n",
      "  0.          0.          0.          0.          0.00294118  0.          0.\n",
      "  0.          0.          0.          0.          0.          0.00294118\n",
      "  0.          0.00294118  0.00294118  0.00588235  0.          0.00294118\n",
      "  0.00588235  0.00294118  0.          0.00588235  0.          0.00588235\n",
      "  0.          0.00294118  0.          0.          0.          0.\n",
      "  0.00294118  0.00588235  0.00294118  0.00294118  0.00882353  0.00588235\n",
      "  0.01764706  0.00294118  0.          0.00588235  0.00588235  0.00294118\n",
      "  0.00588235  0.          0.00882353  0.00588235  0.01470588  0.00294118\n",
      "  0.01176471  0.00882353  0.00588235  0.00588235  0.00294118  0.00588235\n",
      "  0.01470588  0.00294118  0.00882353  0.00588235  0.          0.00882353\n",
      "  0.00588235  0.00882353  0.00294118  0.00588235  0.01470588  0.00294118\n",
      "  0.00588235  0.01176471  0.00294118  0.01176471  0.          0.00588235\n",
      "  0.00588235  0.00588235  0.01764706  0.00294118  0.00294118  0.00588235\n",
      "  0.00588235  0.00294118  0.00294118  0.00882353  0.00294118  0.00294118\n",
      "  0.          0.00588235  0.01176471  0.00882353  0.          0.00294118\n",
      "  0.00882353  0.00294118  0.00588235  0.00294118  0.00294118  0.00588235\n",
      "  0.00588235  0.00294118  0.00882353  0.00294118  0.00294118  0.00294118\n",
      "  0.00882353  0.00294118  0.00294118  0.00882353  0.00294118  0.00294118\n",
      "  0.          0.00882353  0.          0.          0.00294118  0.\n",
      "  0.00294118  0.00588235  0.00882353  0.00294118  0.          0.00882353\n",
      "  0.          0.00294118  0.00882353  0.00588235  0.00294118  0.00588235\n",
      "  0.00294118  0.00294118  0.01176471  0.00588235  0.00882353  0.\n",
      "  0.00588235  0.00294118  0.00588235  0.00294118  0.00294118  0.00882353\n",
      "  0.00294118  0.00882353  0.00294118  0.01176471  0.00882353  0.01176471\n",
      "  0.00294118  0.00588235  0.00294118  0.01470588  0.00882353  0.00294118\n",
      "  0.00294118  0.00294118  0.          0.00588235  0.00294118  0.\n",
      "  0.01176471  0.00294118  0.00588235  0.00588235  0.00882353  0.00882353\n",
      "  0.          0.00294118  0.          0.00294118  0.00588235  0.00294118\n",
      "  0.          0.00294118  0.          0.          0.          0.00882353\n",
      "  0.00588235  0.01176471  0.00588235  0.01176471  0.          0.00294118\n",
      "  0.          0.00294118  0.          0.00294118  0.00294118  0.00294118\n",
      "  0.00294118  0.00588235  0.00294118  0.00294118  0.00294118  0.\n",
      "  0.00882353  0.00588235  0.00588235  0.00294118  0.          0.\n",
      "  0.00294118  0.00882353  0.00294118  0.00294118  0.          0.\n",
      "  0.00294118  0.          0.          0.          0.00294118  0.\n",
      "  0.00294118  0.00588235  0.          0.00294118  0.00588235  0.00294118\n",
      "  0.          0.00588235  0.00294118  0.          0.00294118  0.\n",
      "  0.00588235  0.00588235  0.00294118  0.00588235  0.00294118  0.00588235\n",
      "  0.00294118  0.00294118  0.          0.00294118  0.          0.          0.\n",
      "  0.00294118  0.        ]\n"
     ]
    },
    {
     "data": {
      "image/png": "[encoded data removed]",
      "text/plain": [
       "<matplotlib.figure.Figure at 0x1f7a62e9a58>"
      ]
     },
     "metadata": {
      "needs_background": "light"
     },
     "output_type": "display_data"
    }
   ],
   "source": [
    "#本质:统计每个像素灰度 出现的概率 横坐标：0-255 256种灰度等级  纵坐标：P\n",
    "import cv2\n",
    "import numpy as np\n",
    "import matplotlib.pyplot as plt\n",
    "img=cv2.imread('image0.jpg',1)\n",
    "imgInfo=img.shape\n",
    "height=imgInfo[0]\n",
    "width=imgInfo[1]\n",
    "gray=cv2.cvtColor(img,cv2.COLOR_BGR2GRAY)\n",
    "count=np.zeros(256,np.float)\n",
    "for i in range(0,height):\n",
    "    for j in range(0,width):\n",
    "        pixel=gray[i,j]\n",
    "        index=int(pixel)\n",
    "        count[index]=count[index]+1\n",
    "print(count)\n",
    "print(height*width)\n",
    "for i in range(0,255):\n",
    "    count[i]=count[i]/(height*width)\n",
    "x=np.linspace(0,255,256)\n",
    "y=count\n",
    "print(y)\n",
    "plt.bar(x,y,2,alpha=1,color='b')\n",
    "plt.show()"
   ]
  },
  {
   "cell_type": "code",
   "execution_count": null,
   "metadata": {},
   "outputs": [],
   "source": []
  }
 ],
 "metadata": {
  "kernelspec": {
   "display_name": "Python 3",
   "language": "python",
   "name": "python3"
  },
  "language_info": {
   "codemirror_mode": {
    "name": "ipython",
    "version": 3
   },
   "file_extension": ".py",
   "mimetype": "text/x-python",
   "name": "python",
   "nbconvert_exporter": "python",
   "pygments_lexer": "ipython3",
   "version": "3.6.8"
  }
 },
 "nbformat": 4,
 "nbformat_minor": 2
}
