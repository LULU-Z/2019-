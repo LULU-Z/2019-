{
 "cells": [
  {
   "cell_type": "code",
   "execution_count": null,
   "metadata": {},
   "outputs": [],
   "source": [
    "import cv2\n",
    "import numpy as np\n",
    "import random\n",
    "img=cv2.imread('image0.jpg',1)\n",
    "#img1=cv2.imread('image1.jpg',1)\n",
    "imgInfo=img0.shape\n",
    "height=imgInfo[0]\n",
    "width=imgInfo[1]\n",
    "cv2.imshow('src',img)\n",
    "#canny 1 gray 2 高斯 滤波（去掉噪声干扰）3 canny \n",
    "gray=cv2.cvtColor(img,cv2.COLOR_BGR2GRAY)\n",
    "imgG=cv2.GaussianBlur(gray,(3,3),0)\n",
    "dst=cv2.Canny(img,50,50) #1 data 2 门限 图片经过卷积运算之后大于 th\n",
    "cv2.imshow('dst',dst)\n",
    "cv2.waitKey(0)"
   ]
  },
  {
   "cell_type": "code",
   "execution_count": null,
   "metadata": {},
   "outputs": [],
   "source": [
    "import cv2\n",
    "import numpy as np\n",
    "import random\n",
    "import math\n",
    "img=cv2.imread('image0.jpg',1)\n",
    "#img1=cv2.imread('image1.jpg',1)\n",
    "imgInfo=img.shape\n",
    "height=imgInfo[0]\n",
    "width=imgInfo[1]\n",
    "cv2.imshow('src',img)\n",
    "# sobel 1 算子模板 2 图片卷积 3 阈值判决\n",
    "#[1  2  1      [1  0  -1 \n",
    "#0   0  0       2  0  -2\n",
    "#-1 -2 -1]      1  0  -1]\n",
    "\n",
    "#图片卷积 方框中对应相乘\n",
    "#[1 2 3 4] [a b c d ] a*1+b*2+c*3+d*4 =dst  梯度 atctan 计算梯度的方向\n",
    "#sqrt(竖直a*a+水平b*b) = f>th 边缘 f<th 非边缘\n",
    "\n",
    "gray=cv2.cvtColor(img,cv2.COLOR_BGR2GRAY)\n",
    "dst=np.zeros((height,width,1),np.uint8)\n",
    "for i in range(0,height-2):\n",
    "    for j in range(0,width-2):\n",
    "        gy=gray[i,j]*1+gray[i,j+1]*2+gray[i,j+2]*1-gray[i+2,j]-gray[i+2,j+1]*2-gray[i+2,j+2]\n",
    "        gx=gray[i,j]+gray[i+1,j]*2+gray[i+2,j]-gray[i,j+2]-gray[i+1,j+2]*2-gray[i+2,j+2]\n",
    "        grad=math.sqrt(gx*gx+gy*gy)\n",
    "        if grad>50:\n",
    "            dst[i,j]=255\n",
    "        else:\n",
    "            dst[i,j]=0\n",
    "\n",
    "cv2.imshow('dst',dst)\n",
    "cv2.waitKey(0)        "
   ]
  },
  {
   "cell_type": "code",
   "execution_count": null,
   "metadata": {},
   "outputs": [],
   "source": []
  }
 ],
 "metadata": {
  "kernelspec": {
   "display_name": "Python 3",
   "language": "python",
   "name": "python3"
  },
  "language_info": {
   "codemirror_mode": {
    "name": "ipython",
    "version": 3
   },
   "file_extension": ".py",
   "mimetype": "text/x-python",
   "name": "python",
   "nbconvert_exporter": "python",
   "pygments_lexer": "ipython3",
   "version": "3.6.8"
  }
 },
 "nbformat": 4,
 "nbformat_minor": 2
}
