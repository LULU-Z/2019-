{
 "cells": [
  {
   "cell_type": "code",
   "execution_count": null,
   "metadata": {},
   "outputs": [],
   "source": [
    "#0-255 255-当前\n",
    "import cv2\n",
    "import numpy as np\n",
    "img=cv2.imread('image0.jpg',1)\n",
    "imgInfo=img.shape\n",
    "height=imgInfo[0]\n",
    "width=imgInfo[1]\n",
    "gray=cv2.cvtColor(img,cv2.COLOR_BGR2GRAY)\n",
    "dst=np.zeros((height,width,1),np.uint8)\n",
    "for i in range(0,height):\n",
    "    for j in range(0,width):\n",
    "        grayPixel=gray[i,j]\n",
    "        dst[i,j]=255-grayPixel\n",
    "cv2.imshow('dst',dst)\n",
    "cv2.waitKey(0)\n"
   ]
  },
  {
   "cell_type": "code",
   "execution_count": null,
   "metadata": {},
   "outputs": [],
   "source": [
    "#彩色图片的颜色反转 \n",
    "#RGB 255 255-R=newR\n",
    "import cv2\n",
    "import numpy as np\n",
    "img=cv2.imread('image0.jpg',1)\n",
    "imgInfo=img.shape\n",
    "height=imgInfo[0]\n",
    "width=imgInfo[1]\n",
    "dst=np.zeros((height,width,3),np.uint8)\n",
    "for i in range(0,height):\n",
    "    for j in range(0,width):\n",
    "        (b,g,r)=img[i,j]\n",
    "        dst[i,j]=(255-b,255-g,255-r)\n",
    "cv2.imshow('dst',dst)\n",
    "cv2.waitKey(0)"
   ]
  },
  {
   "cell_type": "code",
   "execution_count": null,
   "metadata": {},
   "outputs": [],
   "source": [
    "#1 load xml 2 load jpg 3 haar grey 4 detect 5 draw\n",
    "import cv2\n",
    "import numpy as np\n",
    "#load xml 1 file name\n",
    "face_xml=cv2.CascadeClassifier('haarcascade_frontalface_default.xml')\n",
    "eye_xml=cv2.CascadeClassifier('haarcascade_eye.xml')\n",
    "#load jpg\n",
    "img=cv2.imread('iamge100.jpg')\n",
    "cv2.imshow('dst',img)\n",
    "#haar gray\n",
    "gray=cv2.cvtColor(img,cv2.COLOR_BGR2GRAY)\n",
    "#detect 1 data 2 缩放系数 scale 3 目标大小 不能小于5个像素\n",
    "faces=face_xml.detectMultiScale(gray,1.3,5)\n",
    "print('face=',len(faces))\n",
    "#draw\n",
    "for (x,y,w,h) in faces:\n",
    "    cv2.rectangle(img,(x,y),(x+w,y+h),(255,0,0),2)#线条宽度2\n",
    "    roi_face=gray[y:y+h,x:x+w]\n",
    "    roi_color=img[y:y+h,x:x+w]\n",
    "    eyes=eye_xml.detectMultiScale(roi_face)\n",
    "    print('eyes=',len(eyes))\n",
    "    for(e_x,e_y,e_w,e_h) in eyes:\n",
    "        cv2.rectangle(roi_color,(e_x,e_y),(e_x+e_w,e_y+e_h),(0,255,0),2)\n",
    "cv2.waitKey(0)\n",
    "    "
   ]
  },
  {
   "cell_type": "code",
   "execution_count": null,
   "metadata": {},
   "outputs": [],
   "source": []
  }
 ],
 "metadata": {
  "kernelspec": {
   "display_name": "Python 3",
   "language": "python",
   "name": "python3"
  },
  "language_info": {
   "codemirror_mode": {
    "name": "ipython",
    "version": 3
   },
   "file_extension": ".py",
   "mimetype": "text/x-python",
   "name": "python",
   "nbconvert_exporter": "python",
   "pygments_lexer": "ipython3",
   "version": "3.6.8"
  }
 },
 "nbformat": 4,
 "nbformat_minor": 2
}
