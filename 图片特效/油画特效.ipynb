{
 "cells": [
  {
   "cell_type": "code",
   "execution_count": null,
   "metadata": {},
   "outputs": [],
   "source": [
    "#1 灰度gray 2 分割为若干小方块7*7 10*10 3 0-255 256 4 640-63 64-127 灰度等级的划分 4 每个方块中灰度等级最多的像素\n",
    "#4 count统计 5 平均值替代原来的值 \n",
    "\n",
    "import cv2\n",
    "import numpy as np\n",
    "img=cv2.imread('image0.jpg',1)\n",
    "\n",
    "imgInfo=img.shape\n",
    "height=imgInfo[0]\n",
    "width=imgInfo[1]\n",
    "grey=cv2.cvtColor(img,cv2.COLOR_BGR2GRAY)\n",
    "dst=np.zeros((height,width,3),np.uint8)\n",
    "for i in range(4,height-4):\n",
    "    for j in range(4,width-4):\n",
    "        array1=np.zeros(8,np.uint8)\n",
    "        for m in range(-4,4):\n",
    "            for n in range(-4,4):\n",
    "                p1=int(grey[i+m,j+n]/32)\n",
    "                array1[p1]=array1[p1]+1\n",
    "        currentMax=array1[0]\n",
    "        l=0\n",
    "        for k in range(0,8):\n",
    "            if currentMax<array1[k]:\n",
    "                currentMax=array1[k]\n",
    "                l=k\n",
    "                \n",
    "        for m in range(-4,4):\n",
    "            for n in range(-4,4):\n",
    "                if grey[i+m,j+n]>=(l*32) and grey[i+m,j+n]<=((l+1)*32):\n",
    "                    (b,g,r)=img[i+m,j+n]\n",
    "        dst[i,j]=(b,g,r)\n",
    "cv2.imshow('dst',dst)\n",
    "cv2.waitKey(0)"
   ]
  },
  {
   "cell_type": "code",
   "execution_count": null,
   "metadata": {},
   "outputs": [],
   "source": []
  }
 ],
 "metadata": {
  "kernelspec": {
   "display_name": "Python 3",
   "language": "python",
   "name": "python3"
  },
  "language_info": {
   "codemirror_mode": {
    "name": "ipython",
    "version": 3
   },
   "file_extension": ".py",
   "mimetype": "text/x-python",
   "name": "python",
   "nbconvert_exporter": "python",
   "pygments_lexer": "ipython3",
   "version": "3.6.8"
  }
 },
 "nbformat": 4,
 "nbformat_minor": 2
}
