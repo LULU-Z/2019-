{
 "cells": [
  {
   "cell_type": "code",
   "execution_count": 4,
   "metadata": {},
   "outputs": [
    {
     "ename": "SyntaxError",
     "evalue": "invalid syntax (<ipython-input-4-5b554e26cb50>, line 12)",
     "output_type": "error",
     "traceback": [
      "\u001b[1;36m  File \u001b[1;32m\"<ipython-input-4-5b554e26cb50>\"\u001b[1;36m, line \u001b[1;32m12\u001b[0m\n\u001b[1;33m    img0ROI=img0(0:roiH,0:roiW)\u001b[0m\n\u001b[1;37m                  ^\u001b[0m\n\u001b[1;31mSyntaxError\u001b[0m\u001b[1;31m:\u001b[0m invalid syntax\n"
     ]
    }
   ],
   "source": [
    "#dst = src1*a+src2*(1-a)\n",
    "import cv2\n",
    "import numpy as np\n",
    "img0=cv2.imread('image0.jpg',1)\n",
    "img1=cv2.imread('image1.jpg',1)\n",
    "imgInfo=img0.shape\n",
    "height=imgInfo[0]\n",
    "width=imgInfo[1]\n",
    "# ROI\n",
    "roiH=int(height)\n",
    "roiW=int(width)\n",
    "img0ROI=img0[0:roiH,0:roiW]\n",
    "img1ROI=img1[0:roiH,0:roiW]\n",
    "#dst\n",
    "dst=np.zeros((roiH,roiW,3),np.uint8)\n",
    "dst=cv2.addWeighted(img0ROI,img1ROI，0)\n",
    "cv2.imshow('dst',dst)\n",
    "cv2.waitKey(0)"
   ]
  },
  {
   "cell_type": "code",
   "execution_count": null,
   "metadata": {},
   "outputs": [],
   "source": []
  }
 ],
 "metadata": {
  "kernelspec": {
   "display_name": "Python 3",
   "language": "python",
   "name": "python3"
  },
  "language_info": {
   "codemirror_mode": {
    "name": "ipython",
    "version": 3
   },
   "file_extension": ".py",
   "mimetype": "text/x-python",
   "name": "python",
   "nbconvert_exporter": "python",
   "pygments_lexer": "ipython3",
   "version": "3.6.8"
  }
 },
 "nbformat": 4,
 "nbformat_minor": 2
}
