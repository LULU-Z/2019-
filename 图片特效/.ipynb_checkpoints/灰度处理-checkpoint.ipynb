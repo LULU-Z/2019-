{
 "cells": [
  {
   "cell_type": "code",
   "execution_count": null,
   "metadata": {},
   "outputs": [
    {
     "name": "stdout",
     "output_type": "stream",
     "text": [
      "(400, 600)\n",
      "(400, 600, 3)\n"
     ]
    }
   ],
   "source": [
    "# IMread\n",
    "#方法1 imread\n",
    "import cv2\n",
    "img0=cv2.imread('image0.jpg',0)\n",
    "img1=cv2.imread('image0.jpg',1)\n",
    "print(img0.shape)\n",
    "print(img1.shape)\n",
    "cv2.imshow('src',img0)\n",
    "cv2.waitKey(0)"
   ]
  },
  {
   "cell_type": "code",
   "execution_count": null,
   "metadata": {},
   "outputs": [],
   "source": [
    "# 方法2 cvtColor\n",
    "import cv2\n",
    "img=cv2.imread('image0.jpg',1)\n",
    "dst=cv2.cvtColor(img,cv2.COLOR_BGR2GRAY)#完成颜色空间转化 1 data 2 颜色装换方式\n",
    "cv2.imshow('dst',dst)\n",
    "cv2.waitKey(0)"
   ]
  },
  {
   "cell_type": "code",
   "execution_count": null,
   "metadata": {},
   "outputs": [],
   "source": [
    "import cv2\n",
    "import numpy as np\n",
    "img=cv2.imread('image0.jpg',1)\n",
    "imgInfo=img.shape\n",
    "height=imgInfo[0]\n",
    "width=imgInfo[1]\n",
    "#RGB R=G=B\n",
    "dst=np.zeros((height,width,3),np.uint8)\n",
    "for i in range(0,height):\n",
    "    for j in range(0,width):\n",
    "        (b,g,r)=img[i,j]\n",
    "        gray=((int(b))+(int(g))+(int(r)))/3 #防止数据溢出，数据类型转化--均值\n",
    "        dst[i,j]=np.uint8(gray)\n",
    "cv2.imshow('dst',dst)\n",
    "cv2.waitKey(0)"
   ]
  },
  {
   "cell_type": "code",
   "execution_count": null,
   "metadata": {},
   "outputs": [],
   "source": [
    "# 方法4 gray=r*0.299+g*0.587+b*0.114\n",
    "import cv2\n",
    "import numpy as np\n",
    "img=cv2.imread('image0.jpg',1)\n",
    "imgInfo=img.shape\n",
    "height=imgInfo[0]\n",
    "width=imgInfo[1]\n",
    "#RGB R=G=B\n",
    "dst=np.zeros((height,width,3),np.uint8)\n",
    "for i in range(0,height):\n",
    "    for j in range(0,width):\n",
    "        (b,g,r)=img[i,j]\n",
    "        gray=(int(r)*0.299+int(g)*0.587+int(b)*0.114) #防止数据溢出，数据类型转化\n",
    "        dst[i,j]=np.uint8(gray)\n",
    "cv2.imshow('dst',dst)\n",
    "cv2.waitKey(0)"
   ]
  },
  {
   "cell_type": "code",
   "execution_count": null,
   "metadata": {},
   "outputs": [],
   "source": []
  }
 ],
 "metadata": {
  "kernelspec": {
   "display_name": "Python 3",
   "language": "python",
   "name": "python3"
  },
  "language_info": {
   "codemirror_mode": {
    "name": "ipython",
    "version": 3
   },
   "file_extension": ".py",
   "mimetype": "text/x-python",
   "name": "python",
   "nbconvert_exporter": "python",
   "pygments_lexer": "ipython3",
   "version": "3.6.8"
  }
 },
 "nbformat": 4,
 "nbformat_minor": 2
}
