{
 "cells": [
  {
   "cell_type": "code",
   "execution_count": null,
   "metadata": {},
   "outputs": [],
   "source": [
    "import cv2\n",
    "import numpy as np\n",
    "import random\n",
    "img=cv2.imread('image0.jpg',1)\n",
    "#img1=cv2.imread('image1.jpg',1)\n",
    "imgInfo=img0.shape\n",
    "height=imgInfo[0]\n",
    "width=imgInfo[1]\n",
    "cv2.imshow('src',img)\n",
    "#canny 1 gray 2 高斯 滤波（去掉噪声干扰）3 canny \n",
    "gray=cv2.cvtColor(img,cv2.COLOR_BGR2GRAY)\n",
    "imgG=cv2.GaussianBlur(gray,(3,3),0)\n",
    "dst=cv2.Canny(img,50,50) #1 data 2 门限 图片经过卷积运算之后大于 th\n",
    "cv2.imshow('dst',dst)\n",
    "cv2.waitKey(0)"
   ]
  },
  {
   "cell_type": "code",
   "execution_count": 1,
   "metadata": {},
   "outputs": [
    {
     "ename": "NameError",
     "evalue": "name 'img0' is not defined",
     "output_type": "error",
     "traceback": [
      "\u001b[1;31m---------------------------------------------------------------------------\u001b[0m",
      "\u001b[1;31mNameError\u001b[0m                                 Traceback (most recent call last)",
      "\u001b[1;32m<ipython-input-1-08b4fb22e14e>\u001b[0m in \u001b[0;36m<module>\u001b[1;34m\u001b[0m\n\u001b[0;32m      5\u001b[0m \u001b[0mimg\u001b[0m\u001b[1;33m=\u001b[0m\u001b[0mcv2\u001b[0m\u001b[1;33m.\u001b[0m\u001b[0mimread\u001b[0m\u001b[1;33m(\u001b[0m\u001b[1;34m'image0.jpg'\u001b[0m\u001b[1;33m,\u001b[0m\u001b[1;36m1\u001b[0m\u001b[1;33m)\u001b[0m\u001b[1;33m\u001b[0m\u001b[1;33m\u001b[0m\u001b[0m\n\u001b[0;32m      6\u001b[0m \u001b[1;31m#img1=cv2.imread('image1.jpg',1)\u001b[0m\u001b[1;33m\u001b[0m\u001b[1;33m\u001b[0m\u001b[1;33m\u001b[0m\u001b[0m\n\u001b[1;32m----> 7\u001b[1;33m \u001b[0mimgInfo\u001b[0m\u001b[1;33m=\u001b[0m\u001b[0mimg0\u001b[0m\u001b[1;33m.\u001b[0m\u001b[0mshape\u001b[0m\u001b[1;33m\u001b[0m\u001b[1;33m\u001b[0m\u001b[0m\n\u001b[0m\u001b[0;32m      8\u001b[0m \u001b[0mheight\u001b[0m\u001b[1;33m=\u001b[0m\u001b[0mimgInfo\u001b[0m\u001b[1;33m[\u001b[0m\u001b[1;36m0\u001b[0m\u001b[1;33m]\u001b[0m\u001b[1;33m\u001b[0m\u001b[1;33m\u001b[0m\u001b[0m\n\u001b[0;32m      9\u001b[0m \u001b[0mwidth\u001b[0m\u001b[1;33m=\u001b[0m\u001b[0mimgInfo\u001b[0m\u001b[1;33m[\u001b[0m\u001b[1;36m1\u001b[0m\u001b[1;33m]\u001b[0m\u001b[1;33m\u001b[0m\u001b[1;33m\u001b[0m\u001b[0m\n",
      "\u001b[1;31mNameError\u001b[0m: name 'img0' is not defined"
     ]
    }
   ],
   "source": [
    "import cv2\n",
    "import numpy as np\n",
    "import random\n",
    "import math\n",
    "img=cv2.imread('image0.jpg',1)\n",
    "#img1=cv2.imread('image1.jpg',1)\n",
    "imgInfo=img.shape\n",
    "height=imgInfo[0]\n",
    "width=imgInfo[1]\n",
    "cv2.imshow('src',img)\n",
    "# sobel 1 算子模板 2 图片卷积 3 阈值判决\n",
    "#[1  2  1      [1  0  -1 \n",
    "#0   0  0       2  0  -2\n",
    "#-1 -2 -1]      1  0  -1]\n",
    "\n",
    "#图片卷积 方框中对应相乘\n",
    "#[1 2 3 4] [a b c d ] a*1+b*2+c*3+d*4 =dst  梯度 atctan 计算梯度的方向\n",
    "#sqrt(竖直a*a+水平b*b) = f>th 边缘 f<th 非边缘\n",
    "\n",
    "gray=cv2.cvtColor(img,cv2.COLOR_BAYER_BG2GRAY)\n",
    "dst=np.zeros((height,width,1),np.uint8)\n",
    "for i in range(0,heigt-2):\n",
    "    for j in range(0,width-2):\n",
    "        gy=gray[i,j]*1+gray[i,j+1]*2+gray[i,j+2]*1-gray[i+2,j]-gray[i+2,j+1]*2-gray[i+2,j+2]\n",
    "        gx=gray[i,j]+gray[i+1,j]*2+gray[i+2,j]-gray[i,j+2]-gray[i+1,j+2]*2-gray[i+2,j+2]\n",
    "        grad=math.sqrt(gx*gx+gy*gy)\n",
    "        if grad>50:\n",
    "            dst[i,j]=255\n",
    "        else:\n",
    "            dst[i,j]=0\n",
    "\n",
    "cv2.imshow('dst',dst)\n",
    "cv2.waitKey(0)        "
   ]
  },
  {
   "cell_type": "code",
   "execution_count": null,
   "metadata": {},
   "outputs": [],
   "source": []
  }
 ],
 "metadata": {
  "kernelspec": {
   "display_name": "Python 3",
   "language": "python",
   "name": "python3"
  },
  "language_info": {
   "codemirror_mode": {
    "name": "ipython",
    "version": 3
   },
   "file_extension": ".py",
   "mimetype": "text/x-python",
   "name": "python",
   "nbconvert_exporter": "python",
   "pygments_lexer": "ipython3",
   "version": "3.6.8"
  }
 },
 "nbformat": 4,
 "nbformat_minor": 2
}
