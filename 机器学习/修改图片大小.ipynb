{
 "cells": [
  {
   "cell_type": "code",
   "execution_count": 3,
   "metadata": {},
   "outputs": [
    {
     "name": "stdout",
     "output_type": "stream",
     "text": [
      "ok\n"
     ]
    }
   ],
   "source": [
    "#提取目录下所有图片,更改尺寸后保存到另一目录\n",
    "from PIL import Image\n",
    "import os.path\n",
    "import glob\n",
    "def convertjpg(jpgfile,outdir,width=128,height=64):\n",
    "    img=Image.open(jpgfile)\n",
    "    try:\n",
    "        new_img=img.resize((width,height),Image.BILINEAR)   \n",
    "        new_img.save(os.path.join(outdir,os.path.basename(jpgfile)))\n",
    "    except Exception as e:\n",
    "        print(e)\n",
    "for jpgfile in glob.glob(\"E:\\图像识别\\机器学习\\pos\\*.jpg\"):\n",
    "    convertjpg(jpgfile,\"E:\\图像识别\\机器学习\\p\")\n",
    "print('ok')"
   ]
  },
  {
   "cell_type": "code",
   "execution_count": 2,
   "metadata": {},
   "outputs": [
    {
     "ename": "TypeError",
     "evalue": "alter() missing 1 required positional argument: 'object'",
     "output_type": "error",
     "traceback": [
      "\u001b[1;31m---------------------------------------------------------------------------\u001b[0m",
      "\u001b[1;31mTypeError\u001b[0m                                 Traceback (most recent call last)",
      "\u001b[1;32m<ipython-input-2-296e2c064f74>\u001b[0m in \u001b[0;36m<module>\u001b[1;34m\u001b[0m\n\u001b[0;32m     17\u001b[0m         \u001b[0mcount\u001b[0m \u001b[1;33m=\u001b[0m \u001b[0mcount\u001b[0m \u001b[1;33m+\u001b[0m \u001b[1;36m1\u001b[0m\u001b[1;33m\u001b[0m\u001b[1;33m\u001b[0m\u001b[0m\n\u001b[0;32m     18\u001b[0m \u001b[1;33m\u001b[0m\u001b[0m\n\u001b[1;32m---> 19\u001b[1;33m \u001b[0malter\u001b[0m\u001b[1;33m(\u001b[0m\u001b[1;34m'E:\\图像识别\\机器学习\\pos'\u001b[0m\u001b[1;33m)\u001b[0m\u001b[1;33m\u001b[0m\u001b[1;33m\u001b[0m\u001b[0m\n\u001b[0m",
      "\u001b[1;31mTypeError\u001b[0m: alter() missing 1 required positional argument: 'object'"
     ]
    }
   ],
   "source": [
    "import os\n",
    "import time\n",
    "\n",
    "import cv2\n",
    "\n",
    "def alter(path,object):\n",
    "    result = []\n",
    "    s = os.listdir(path)\n",
    "    count = 1\n",
    "    for i in s:\n",
    "        document = os.path.join(path,i)\n",
    "        img = cv2.imread(document)\n",
    "        img = cv2.resize(img, (128,64))\n",
    "        listStr = [str(int(time.time())), str(count)]\n",
    "        fileName = ''.join(listStr)\n",
    "        cv2.imwrite(object+os.sep+'%s.jpg' % fileName, img)\n",
    "        count = count + 1\n",
    "\n",
    "alter('E:\\图像识别\\机器学习\\pos')\n"
   ]
  },
  {
   "cell_type": "code",
   "execution_count": 3,
   "metadata": {
    "collapsed": true
   },
   "outputs": [],
   "source": [
    "import os\n",
    "import time\n",
    "from PIL import Image\n",
    "\n",
    "def alter(path,object):\n",
    "    s = os.listdir(path)\n",
    "    count = 1\n",
    "    for i in s:\n",
    "        document = os.path.join(path,i)\n",
    "        img = Image.open(document)\n",
    "        out = img.resize((64,128))\n",
    "        listStr = [str(int(time.time())), str(count)]\n",
    "        fileName = ''.join(listStr)\n",
    "        out.save(object+os.sep+'%s.jpg' % fileName)\n",
    "        count = count + 1\n",
    "\n",
    "alter('E:\\图像识别\\机器学习\\pos','E:\\图像识别\\机器学习\\p')\n"
   ]
  },
  {
   "cell_type": "code",
   "execution_count": null,
   "metadata": {
    "collapsed": true
   },
   "outputs": [],
   "source": []
  }
 ],
 "metadata": {
  "kernelspec": {
   "display_name": "Python 3",
   "language": "python",
   "name": "python3"
  },
  "language_info": {
   "codemirror_mode": {
    "name": "ipython",
    "version": 3
   },
   "file_extension": ".py",
   "mimetype": "text/x-python",
   "name": "python",
   "nbconvert_exporter": "python",
   "pygments_lexer": "ipython3",
   "version": "3.6.3"
  }
 },
 "nbformat": 4,
 "nbformat_minor": 2
}
