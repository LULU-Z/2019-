{
 "cells": [
  {
   "cell_type": "code",
   "execution_count": null,
   "metadata": {},
   "outputs": [],
   "source": [
    "#haar 1 什么是haar ?特征=像素 运算 -》结果 （具体的值 向量 矩阵 多维）\n",
    "#2如何利用特征 区分目标  阈值判决 \n",
    "#3如何得到判决？机器学习 \n",
    "#1 特征 2 判决特征 3 如何得到判决\n",
    "\n",
    "#公式推导 1 -2\n",
    "#特征 = 整个区域*权重1+黑色*权重（-2）=白-黑\n",
    "\n",
    "#1 haar模板 上下 左右 image size 模板 100*100 10*10 100次 step =10\n",
    "#模板 滑动 缩放 10*10 11*11"
   ]
  }
 ],
 "metadata": {
  "kernelspec": {
   "display_name": "Python 3",
   "language": "python",
   "name": "python3"
  },
  "language_info": {
   "codemirror_mode": {
    "name": "ipython",
    "version": 3
   },
   "file_extension": ".py",
   "mimetype": "text/x-python",
   "name": "python",
   "nbconvert_exporter": "python",
   "pygments_lexer": "ipython3",
   "version": "3.6.8"
  }
 },
 "nbformat": 4,
 "nbformat_minor": 2
}
