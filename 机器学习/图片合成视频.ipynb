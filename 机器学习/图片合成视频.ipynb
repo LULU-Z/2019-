{
 "cells": [
  {
   "cell_type": "code",
   "execution_count": 1,
   "metadata": {},
   "outputs": [
    {
     "name": "stdout",
     "output_type": "stream",
     "text": [
      "(960, 540)\n",
      "end!\n"
     ]
    }
   ],
   "source": [
    "import cv2\n",
    "img=cv2.imread('image1.jpg')\n",
    "imgInfo=img.shape\n",
    "size=(imgInfo[1],imgInfo[0])\n",
    "print(size)\n",
    "#1 file name 2 编码器 3 帧率 4 size\n",
    "videoWrite=cv2.VideoWriter('212121.mp4',-1,4,size) #-1 选择支持的解码器 每秒钟4帧\n",
    "for i in range(1,101):\n",
    "    fileName='image'+str(i)+'jpg'\n",
    "    img=cv2.imread(fileName)78\n",
    "    videoWrite.write(img)#写入方法1 jpg data\n",
    "print('end!')"
   ]
  },
  {
   "cell_type": "code",
   "execution_count": 1,
   "metadata": {},
   "outputs": [
    {
     "name": "stdout",
     "output_type": "stream",
     "text": [
      "(960, 540)\n",
      "end!\n"
     ]
    }
   ],
   "source": [
    "import cv2\n",
    "img=cv2.imread('image1.jpg')\n",
    "imgInfo=img.shape\n",
    "size=(imgInfo[1],imgInfo[0])\n",
    "print(size)\n",
    "#1 file name 2 编码器 3 帧率 4 size\n",
    "videoWrite=cv2.VideoWriter('2.mp4',-1,5,size) #-1 选择支持的解码器 每秒钟4帧\n",
    "for i in range(1,101):\n",
    "    fileName='image'+str(i)+'jpg'\n",
    "    img=cv2.imread(fileName)\n",
    "    videoWrite.write(img)#写入方法1 jpg data\n",
    "print('end!')"
   ]
  },
  {
   "cell_type": "code",
   "execution_count": null,
   "metadata": {},
   "outputs": [],
   "source": []
  }
 ],
 "metadata": {
  "kernelspec": {
   "display_name": "Python 3",
   "language": "python",
   "name": "python3"
  },
  "language_info": {
   "codemirror_mode": {
    "name": "ipython",
    "version": 3
   },
   "file_extension": ".py",
   "mimetype": "text/x-python",
   "name": "python",
   "nbconvert_exporter": "python",
   "pygments_lexer": "ipython3",
   "version": "3.6.8"
  }
 },
 "nbformat": 4,
 "nbformat_minor": 2
}
