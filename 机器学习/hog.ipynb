{
 "cells": [
  {
   "cell_type": "code",
   "execution_count": null,
   "metadata": {},
   "outputs": [],
   "source": [
    "#1什么是hug?特征 某个像素 某种运算\n",
    "#模板计算基础上更加复杂 2  1 模块划分 2 根据hug模板计算梯度和方向 3 bin投影 4 每个模块hog特征\n",
    "#1 模块划分\n",
    "#image(整个ppt) win(windows窗体) block（红色） cell （绿色的矩形）(size)\n",
    "#image》win>block>cell\n",
    "#(block setp) (win setp) (cell bin)\n",
    "#win 特征计算最顶层单元-》obj\n",
    "#1 win size 50*100 20*50 64*128\n",
    "#2 block<win 宽高是整数倍 16*16\n",
    "#3 block step 如何在win下滑动 8*8\n",
    "#4 从上到下 从左到右 计算block count=（（64-16）/8+1）*（128-16）/8+1）=105block\n",
    "#5 cell size 8*8 \n",
    "#6 block 中有4个cell block在Windows下是一个滑动的概念 cell是不可滑动的 cell1 cell2 cell3 cell4\n",
    "#7 bin?"
   ]
  },
  {
   "cell_type": "code",
   "execution_count": null,
   "metadata": {},
   "outputs": [],
   "source": [
    "#7cell bin 梯度 ：运算\n",
    "#每个像素-》梯度：大小 f 方向 angle角度\n",
    "#0-360 按照40度划分 =360/40=9块 每40°一个bin\n",
    "#1 bin =40 cell->360->9bin\n",
    "#hog特征维度：\n",
    "#haar 值 hog 向量（维度）完全描述 一个obj info all 包含和描述对象的所有信息\n",
    "#维度 = block 105*4*9=3780维\n"
   ]
  },
  {
   "cell_type": "code",
   "execution_count": null,
   "metadata": {},
   "outputs": [],
   "source": [
    "#梯度 方向 模板\n",
    "#像素都有一个梯度 所有像素组合在一起组成hog ==win \n",
    "#特征模板-》haar 类似\n",
    "#【1 0 -1】【【1】 【0】 【-1】】\n",
    "#a=p1*1+p2*0+p3*(-1)=相邻像素之差\n",
    "#b=上下像素之差\n",
    "#f=根号下（a方+b方）\n",
    "#angle=arctan（a/b）"
   ]
  },
  {
   "cell_type": "code",
   "execution_count": null,
   "metadata": {},
   "outputs": [],
   "source": [
    "#bin的 投影 梯度\n",
    "#bin 0-360 9bin 0-40 不是连续的（20°作为一个连续的，另外20°是连续的）\n",
    "#bin1 0-20° 180°-200°\n",
    "#ij f a =10°\n",
    "#0-20 center bin1 a=190 180-200 bin1\n",
    "#f \n",
    "#25bin1 bin2\n",
    "#f1 =f*f(夹角) f2=f*(1-f(夹角)) f(夹角) 0-1.0\n",
    "#+1 hog "
   ]
  },
  {
   "cell_type": "code",
   "execution_count": 3,
   "metadata": {},
   "outputs": [],
   "source": [
    "#如何计算整体hog特征 cell复用\n",
    "#3780\n",
    "#3780<-win (block cell bin)\n",
    "#1<-bin\n",
    "#cell0 cell3 bin0-bin8\n",
    "#cell0:bin0 bin1 ...bin8\n",
    "#cell1:bin0 bin1 ...bin8\n",
    "#cell2:bin0 bin1 ...bin8\n",
    "#cell3:bin0 bin1 ...bin8\n",
    "#i j cell0 bin0 f0\n",
    "#i+1 j cell0 bin0 = f1\n",
    "#i j...\n",
    "#sumbin0(f0+f1+f2...)=bin0\n",
    "#权重累加\n",
    "#i j bin0 bin1\n",
    "\n",
    "#cell复用\n",
    "\n",
    "#block 4个cell\n",
    "#[0] [1] [2] [3]\n",
    "#cell0 bin0-bin9\n",
    "#cellx0 cellx2 cellx4\n",
    "#cellx0:ij->bin bin+1\n",
    "#cellx2:ij->cell2 cell3->bin bin+1\n",
    "#cellx4:ij\n",
    "\n",
    "#[cell 9] [4cell] [105]=3780"
   ]
  },
  {
   "cell_type": "code",
   "execution_count": null,
   "metadata": {},
   "outputs": [],
   "source": [
    "# [3780]  svm line训练【3780维向量】\n",
    "# hog*svm=值\n",
    "#值》T（判决门限） 目标obj\n"
   ]
  }
 ],
 "metadata": {
  "kernelspec": {
   "display_name": "Python 3",
   "language": "python",
   "name": "python3"
  },
  "language_info": {
   "codemirror_mode": {
    "name": "ipython",
    "version": 3
   },
   "file_extension": ".py",
   "mimetype": "text/x-python",
   "name": "python",
   "nbconvert_exporter": "python",
   "pygments_lexer": "ipython3",
   "version": "3.6.8"
  }
 },
 "nbformat": 4,
 "nbformat_minor": 2
}
