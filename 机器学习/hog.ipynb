{
 "cells": [
  {
   "cell_type": "code",
   "execution_count": null,
   "metadata": {},
   "outputs": [],
   "source": [
    "#1什么是hug?特征 某个像素 某种运算\n",
    "#模板计算基础上更加复杂 2  1 模块划分 2 根据hug模板计算梯度和方向 3 bin投影 4 每个模块hog特征\n",
    "#1 模块划分\n",
    "#image(整个ppt) win(windows窗体) block（红色） cell （绿色的矩形）(size)\n",
    "#image》win>block>cell\n",
    "#(block setp) (win setp) (cell bin)\n",
    "#win 特征计算最顶层单元-》obj\n",
    "#1 win size 50*100 20*50 64*128\n",
    "#2 block<win 宽高是整数倍 16*16\n",
    "#3 block step 如何在win下滑动 8*8\n",
    "#4 从上到下 从左到右 计算block count=（（64-16）/8+1）*（128-16）/8+1）=105block\n",
    "#5 cell size 8*8 \n",
    "#6 block 中有4个cell block在Windows下是一个滑动的概念 cell是不可滑动的 cell1 cell2 cell3 cell4\n",
    "#7 bin?"
   ]
  },
  {
   "cell_type": "code",
   "execution_count": null,
   "metadata": {},
   "outputs": [],
   "source": []
  }
 ],
 "metadata": {
  "kernelspec": {
   "display_name": "Python 3",
   "language": "python",
   "name": "python3"
  },
  "language_info": {
   "codemirror_mode": {
    "name": "ipython",
    "version": 3
   },
   "file_extension": ".py",
   "mimetype": "text/x-python",
   "name": "python",
   "nbconvert_exporter": "python",
   "pygments_lexer": "ipython3",
   "version": "3.6.8"
  }
 },
 "nbformat": 4,
 "nbformat_minor": 2
}
