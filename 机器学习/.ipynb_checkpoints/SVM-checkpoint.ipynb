{
 "cells": [
  {
   "cell_type": "code",
   "execution_count": 1,
   "metadata": {},
   "outputs": [],
   "source": [
    "# SVM本质 寻求一个最优的超平面 分类\n",
    "#SVM （方法：若干直线 若干曲线） SVM核\n",
    "#身高体重 完成男生女生身高体重 训练 预测\n",
    "import cv2\n",
    "import numpy as np\n",
    "import matplotlib.pyplot as plt\n",
    "#1 准备data\n",
    "rand1=np.array([[155,48],[159,50],[164,53],[168,56],[172,60]])\n",
    "rand2=np.array([[152,53],[156,55],[160,56],[172,65],[176,65]])\n",
    "\n",
    "#2 label\n",
    "label=np.array([[0],[0],[0],[0],[0],[1],[1],[1],[1],[1]])\n",
    "\n",
    "#3 data\n",
    "data=np.vstack((rand1,rand2))\n",
    "data=np.array(data,dtype='float32')\n",
    "\n",
    "#svm 所以数据都要有标签\n",
    "#[155,48] --0 女生 【152,53】--1男生\n",
    "#监督学习 0负样本 1 正样本\n",
    "\n",
    "#4 训练\n",
    "svm=cv2.ml.svm_create() #ml 机器学习模块 svm_create(创建一个知识向量机)\n",
    "#属性设置\n",
    "svm.setType(cv2.ml.SVM_C_SVC) #scm type\n",
    "svm.setKernel(cv2.ml.SVM_LINEAR) #line 线性分类器\n",
    "svm.setC(0.01)\n"
   ]
  },
  {
   "cell_type": "code",
   "execution_count": null,
   "metadata": {},
   "outputs": [],
   "source": []
  }
 ],
 "metadata": {
  "kernelspec": {
   "display_name": "Python 3",
   "language": "python",
   "name": "python3"
  },
  "language_info": {
   "codemirror_mode": {
    "name": "ipython",
    "version": 3
   },
   "file_extension": ".py",
   "mimetype": "text/x-python",
   "name": "python",
   "nbconvert_exporter": "python",
   "pygments_lexer": "ipython3",
   "version": "3.6.8"
  }
 },
 "nbformat": 4,
 "nbformat_minor": 2
}
