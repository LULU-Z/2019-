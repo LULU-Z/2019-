{
 "cells": [
  {
   "cell_type": "code",
   "execution_count": 22,
   "metadata": {},
   "outputs": [
    {
     "name": "stdout",
     "output_type": "stream",
     "text": [
      "converting E:\\图像识别\\机器学习\\pos\\1.jpg to E:\\图像识别\\机器学习\\pos\\1.jpg ...\n",
      "converting E:\\图像识别\\机器学习\\pos\\2.jpg to E:\\图像识别\\机器学习\\pos\\2.jpg ...\n",
      "converting E:\\图像识别\\机器学习\\pos\\3.jpg to E:\\图像识别\\机器学习\\pos\\3.jpg ...\n",
      "converting E:\\图像识别\\机器学习\\pos\\4.jpg to E:\\图像识别\\机器学习\\pos\\4.jpg ...\n",
      "converting E:\\图像识别\\机器学习\\pos\\5.jpg to E:\\图像识别\\机器学习\\pos\\5.jpg ...\n",
      "converting E:\\图像识别\\机器学习\\pos\\6.jpg to E:\\图像识别\\机器学习\\pos\\6.jpg ...\n",
      "converting E:\\图像识别\\机器学习\\pos\\7.jpg to E:\\图像识别\\机器学习\\pos\\7.jpg ...\n",
      "converting E:\\图像识别\\机器学习\\pos\\8.jpg to E:\\图像识别\\机器学习\\pos\\8.jpg ...\n",
      "converting E:\\图像识别\\机器学习\\pos\\9.jpg to E:\\图像识别\\机器学习\\pos\\9.jpg ...\n",
      "ok\n"
     ]
    }
   ],
   "source": [
    "# -*- coding:utf8 -*-\n",
    "import os\n",
    "class BatchRename():\n",
    "#批量重命名文件夹中的图片文件\n",
    "    def __init__(self):\n",
    "        self.path = 'E:\\图像识别\\机器学习\\pos'\n",
    " \n",
    "    def rename(self):\n",
    "        filelist = os.listdir(self.path)\n",
    "        total_num = len(filelist)\n",
    "        i = 0\n",
    "        for item in filelist:\n",
    "            if item.endswith('.jpg'):\n",
    "                src = os.path.join(os.path.abspath(self.path), item)\n",
    "                dst = os.path.join(os.path.abspath(self.path), str(i+1) + '.jpg')\n",
    "            try:\n",
    "                os.rename(src, dst)\n",
    "                print ('converting %s to %s ...' % (src, dst))\n",
    "                i = i + 1\n",
    "            except:\n",
    "                continue\n",
    "        print('ok') \n",
    "if __name__ == '__main__':\n",
    "    demo = BatchRename()\n",
    "    demo.rename()"
   ]
  },
  {
   "cell_type": "code",
   "execution_count": 24,
   "metadata": {},
   "outputs": [
    {
     "ename": "FileNotFoundError",
     "evalue": "[WinError 3] 系统找不到指定的路径。: '/home/wlw/VS_code_projects/my_picture'",
     "output_type": "error",
     "traceback": [
      "\u001b[1;31m---------------------------------------------------------------------------\u001b[0m",
      "\u001b[1;31mFileNotFoundError\u001b[0m                         Traceback (most recent call last)",
      "\u001b[1;32m<ipython-input-24-cac34bfeacb7>\u001b[0m in \u001b[0;36m<module>\u001b[1;34m\u001b[0m\n\u001b[0;32m     19\u001b[0m \u001b[1;33m\u001b[0m\u001b[0m\n\u001b[0;32m     20\u001b[0m     \u001b[0mprint\u001b[0m\u001b[1;33m(\u001b[0m\u001b[1;34m\"总共\"\u001b[0m\u001b[1;33m+\u001b[0m\u001b[0mstr\u001b[0m\u001b[1;33m(\u001b[0m\u001b[0mtotal_num\u001b[0m\u001b[1;33m)\u001b[0m\u001b[1;33m+\u001b[0m\u001b[1;34m\"张图片被重命名为:\"\u001b[0m \u001b[1;34m\"000001.jpg~\"\u001b[0m\u001b[1;33m+\u001b[0m\u001b[1;34m'000'\u001b[0m\u001b[1;33m+\u001b[0m\u001b[0mformat\u001b[0m\u001b[1;33m(\u001b[0m\u001b[0mstr\u001b[0m\u001b[1;33m(\u001b[0m\u001b[0mi\u001b[0m\u001b[1;33m-\u001b[0m\u001b[1;36m1\u001b[0m\u001b[1;33m)\u001b[0m\u001b[1;33m,\u001b[0m\u001b[1;34m'0>3'\u001b[0m\u001b[1;33m)\u001b[0m\u001b[1;33m+\u001b[0m\u001b[1;34m\".jpg形式\"\u001b[0m\u001b[1;33m)\u001b[0m\u001b[1;33m\u001b[0m\u001b[1;33m\u001b[0m\u001b[0m\n\u001b[1;32m---> 21\u001b[1;33m \u001b[0mrename\u001b[0m\u001b[1;33m(\u001b[0m\u001b[1;33m)\u001b[0m\u001b[1;33m\u001b[0m\u001b[1;33m\u001b[0m\u001b[0m\n\u001b[0m\u001b[0;32m     22\u001b[0m \u001b[1;33m\u001b[0m\u001b[0m\n\u001b[0;32m     23\u001b[0m \u001b[1;33m\u001b[0m\u001b[0m\n",
      "\u001b[1;32m<ipython-input-24-cac34bfeacb7>\u001b[0m in \u001b[0;36mrename\u001b[1;34m()\u001b[0m\n\u001b[0;32m      4\u001b[0m \u001b[1;33m\u001b[0m\u001b[0m\n\u001b[0;32m      5\u001b[0m \u001b[1;32mdef\u001b[0m \u001b[0mrename\u001b[0m\u001b[1;33m(\u001b[0m\u001b[1;33m)\u001b[0m\u001b[1;33m:\u001b[0m\u001b[1;33m\u001b[0m\u001b[1;33m\u001b[0m\u001b[0m\n\u001b[1;32m----> 6\u001b[1;33m     \u001b[0mpiclist\u001b[0m\u001b[1;33m=\u001b[0m\u001b[0mos\u001b[0m\u001b[1;33m.\u001b[0m\u001b[0mlistdir\u001b[0m\u001b[1;33m(\u001b[0m\u001b[0mpic_path\u001b[0m\u001b[1;33m)\u001b[0m\u001b[1;33m\u001b[0m\u001b[1;33m\u001b[0m\u001b[0m\n\u001b[0m\u001b[0;32m      7\u001b[0m     \u001b[0mtotal_num\u001b[0m\u001b[1;33m=\u001b[0m\u001b[0mlen\u001b[0m\u001b[1;33m(\u001b[0m\u001b[0mpiclist\u001b[0m\u001b[1;33m)\u001b[0m\u001b[1;33m\u001b[0m\u001b[1;33m\u001b[0m\u001b[0m\n\u001b[0;32m      8\u001b[0m \u001b[1;33m\u001b[0m\u001b[0m\n",
      "\u001b[1;31mFileNotFoundError\u001b[0m: [WinError 3] 系统找不到指定的路径。: '/home/wlw/VS_code_projects/my_picture'"
     ]
    }
   ],
   "source": [
    "import os\n",
    " \n",
    "pic_path=\"E:\\图像识别\\机器学习\\pos\"\n",
    " \n",
    "def rename():\n",
    "    piclist=os.listdir(pic_path)\n",
    "    total_num=len(piclist)\n",
    "   \n",
    "    i=1\n",
    "    for pic in piclist:\n",
    "        if pic.endswith(\".jpg\"):\n",
    "            old_path=os.path.join(os.path.abspath(pic_path),pic)\n",
    "            new_path=os.path.join(os.path.abspath(pic_path),'000'+format(str(i),'0>3')+'.jpg')\n",
    " \n",
    "            os.renames(old_path,new_path)\n",
    "            print(u\"把原图片命名格式：\"+old_path+u\"转换为新图片命名格式：\"+new_path)\n",
    "            #print \"把原图片路径：%s,转换为新图片路径：%s\" %(old_path,new_path)\n",
    "            i=i+1\n",
    "    \n",
    "    print(\"总共\"+str(total_num)+\"张图片被重命名为:\" \"000001.jpg~\"+'000'+format(str(i-1),'0>3')+\".jpg形式\")\n",
    "rename()\n",
    " \n",
    "\n"
   ]
  },
  {
   "cell_type": "code",
   "execution_count": null,
   "metadata": {},
   "outputs": [],
   "source": []
  }
 ],
 "metadata": {
  "kernelspec": {
   "display_name": "Python 3",
   "language": "python",
   "name": "python3"
  },
  "language_info": {
   "codemirror_mode": {
    "name": "ipython",
    "version": 3
   },
   "file_extension": ".py",
   "mimetype": "text/x-python",
   "name": "python",
   "nbconvert_exporter": "python",
   "pygments_lexer": "ipython3",
   "version": "3.6.8"
  }
 },
 "nbformat": 4,
 "nbformat_minor": 2
}
