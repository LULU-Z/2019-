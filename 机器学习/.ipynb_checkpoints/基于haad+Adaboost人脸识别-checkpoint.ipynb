{
 "cells": [
  {
   "cell_type": "code",
   "execution_count": null,
   "metadata": {},
   "outputs": [
    {
     "name": "stdout",
     "output_type": "stream",
     "text": [
      "face= 0\n"
     ]
    }
   ],
   "source": [
    "#1 load xml 2 load jpg 3 haar grey 4 detect 5 draw\n",
    "import cv2\n",
    "import numpy as np\n",
    "import tensorflow as tf\n",
    "#load xml 1 file name\n",
    "face_xml=cv2.CascadeClassifier('haarcascade_frontalface_default.xml')\n",
    "eye_xml=cv2.CascadeClassifier('haarcascade_eye.xml')\n",
    "#load jpg\n",
    "img=cv2.imread('timg.jpg',1)\n",
    "cv2.imshow('src',img)\n",
    "#haar gray\n",
    "gray=cv2.cvtColor(img,cv2.COLOR_BGR2GRAY)\n",
    "#detect 1 data 2 缩放系数 scale 3 目标大小 不能小于5个像素\n",
    "faces=face_xml.detectMultiScale(gray,1.3,5)\n",
    "print('face=',len(faces))\n",
    "#draw\n",
    "for (x,y,w,h) in faces:\n",
    "    cv2.rectangle(img,(x,y),(x+w,y+h),(255,0,0),2)#线条宽度2\n",
    "    roi_face=gray[y:y+h,x:x+w]\n",
    "    roi_color=img[y:y+h,x:x+w]\n",
    "    eyes=eye_xml.detectMultiScale(roi_face)\n",
    "    print('eyes=',len(eyes))\n",
    "    for(e_x,e_y,e_w,e_h) in eyes:\n",
    "        cv2.rectangle(roi_color,(e_x,e_y),(e_x+e_w,e_y+e_h),(0,255,0),2)\n",
    "cv2.imshow('dst',img)\n",
    "cv2.waitKey(0)"
   ]
  },
  {
   "cell_type": "code",
   "execution_count": null,
   "metadata": {},
   "outputs": [],
   "source": [
    "#1 load xml 2 load jpg 3 haar grey 4 detect 5 draw\n",
    "import cv2\n",
    "import numpy as np\n",
    "#load xml 1 file name\n",
    "face_xml=cv2.CascadeClassifier('haarcascade_frontalface_default.xml')\n",
    "eye_xml=cv2.CascadeClassifier('haarcascade_eye.xml')\n",
    "#load jpg\n",
    "img=cv2.imread('iamge100.jpg')\n",
    "cv2.imshow('dst',img)\n",
    "#haar gray\n",
    "gray=cv2.cvtColor(img,cv2.COLOR_BGR2GRAY)\n",
    "#detect 1 data 2 缩放系数 scale 3 目标大小 不能小于5个像素\n",
    "faces=face_xml.detectMultiScale(gray,1.3,5)\n",
    "print('face=',len(faces))\n",
    "#draw\n",
    "for (x,y,w,h) in faces:\n",
    "    cv2.rectangle(img,(x,y),(x+w,y+h),(255,0,0),2)#线条宽度2\n",
    "    roi_face=gray[y:y+h,x:x+w]\n",
    "    roi_color=img[y:y+h,x:x+w]\n",
    "    eyes=eye_xml.detectMultiScale(roi_face)\n",
    "    print('eyes=',len(eyes))\n",
    "    for(e_x,e_y,e_w,e_h) in eyes:\n",
    "        cv2.rectangle(roi_color,(e_x,e_y),(e_x+e_w,e_y+e_h),(0,255,0),2)\n",
    "cv2.waitKey(0)\n",
    "    "
   ]
  },
  {
   "cell_type": "code",
   "execution_count": null,
   "metadata": {},
   "outputs": [],
   "source": [
    "#haar 1 什么是haar ?特征=像素 运算 -》结果 （具体的值 向量 矩阵 多维）\n",
    "#2如何利用特征 区分目标  阈值判决 \n",
    "#3如何得到判决？机器学习 \n",
    "#1 特征 2 判决特征 3 如何得到判决\n",
    "\n",
    "#公式推导 1 -2\n",
    "#特征 = 整个区域*权重1+黑色*权重（-2）=白-黑\n",
    "\n",
    "#1 haar模板 上下 左右 image size 模板 100*100 10*10 100次 step =10\n",
    "#模板 滑动 缩放 10*10 11*11 20级\n",
    " \n",
    "#举例 1080720 step2 10*10\n",
    "#计算量=14（模板）*20缩放*（1080/2*720/2）*（100点+-）=50-100亿\n",
    "#对图片实时处理 每秒钟处理的图片不能低于15帧/秒（50-100）*15=1000亿次\n",
    "\n",
    "#A 1 B 1 2 C 1 3 D 1 2 3 4\n",
    "#4 = A-B-C+D = 1+1+2+3+4-1-2-1-3=4 3次（加减）"
   ]
  },
  {
   "cell_type": "code",
   "execution_count": null,
   "metadata": {},
   "outputs": [],
   "source": [
    "#haar+adaboost face\n",
    "# 苹果 苹果 苹果 香蕉\n",
    "# 0.1  0.1  0.1  0.5\n",
    "# 训练终止条件：1 for count  2 每次迭代完之后有一个检测概率 p（概率）\n",
    "# 1 分类器的结构 2 adaboost 计算过程  3 xml 文件结构\n",
    "# haar>T1 苹果 <T1香蕉 两级分类器阈值 haar>T1 and haar>T2 2个强分类器15-20\n",
    "\n",
    "#3个强分类器 1 x1(特征) t1(阈值) 2 x2 t2 3 x3 t3\n",
    "#x1>t1 and x2>t2 and x3>t3 目标-》苹果 任何一个不通过 -》非苹果 阈值是通过训练的出来的\n",
    "#作用：判决\n",
    "#弱分类器结构\n",
    "#作用：计算强分类器特征x1 x2 x3\n",
    "#x2=sum(y1,y2,y3)\n",
    "\n",
    "#y1 y2 y3弱分类器特征\n",
    "#node\n",
    "#弱分类器最多支持3个haar特征 3 个haar->node\n",
    "#1 node haar1>nodeT1 z1=a1\n",
    "#1 node haar1<nodeT1 z1=a2\n",
    "#z=sum(z1,z2,z3)>T y1==A\n",
    "#z=sum(z1,z2,z3)<T y1==B\n",
    "\n",
    "#haar->Node z1 z2 z3 Z=sum(z1,z2,z3) node\n",
    "#z>T y1 y2 y3 弱分类器\n",
    "#x=sum(y1,y2,y3) >T1 obj 强分类器\n",
    "\n"
   ]
  },
  {
   "cell_type": "code",
   "execution_count": null,
   "metadata": {},
   "outputs": [],
   "source": [
    "#adaboost 训练\n",
    "#1 初始化数据权值分布\n",
    "# 苹果 苹果 苹果 香蕉\n",
    "# 0.1  0.1  0.1  0.1\n",
    "#2 遍历阈值 p\n",
    "#minP(最小的误差概率) t(权重)\n",
    "#3 G1(x)\n",
    "#4 更新权值分布 update\n",
    "#0.2 0.2 0.2 0.7\n",
    "# 第一次训练完成\n",
    "#训练终止条件：1 for count  2 每次迭代完之后有一个检测概率 p（概率）\n"
   ]
  }
 ],
 "metadata": {
  "kernelspec": {
   "display_name": "Python 3",
   "language": "python",
   "name": "python3"
  },
  "language_info": {
   "codemirror_mode": {
    "name": "ipython",
    "version": 3
   },
   "file_extension": ".py",
   "mimetype": "text/x-python",
   "name": "python",
   "nbconvert_exporter": "python",
   "pygments_lexer": "ipython3",
   "version": "3.6.8"
  }
 },
 "nbformat": 4,
 "nbformat_minor": 2
}
