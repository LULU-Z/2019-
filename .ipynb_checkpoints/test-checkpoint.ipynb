{
 "cells": [
  {
   "cell_type": "code",
   "execution_count": 3,
   "metadata": {},
   "outputs": [
    {
     "name": "stdout",
     "output_type": "stream",
     "text": [
      "hello cv2\n"
     ]
    }
   ],
   "source": [
    "import cv2\n",
    "print('hello cv2')"
   ]
  },
  {
   "cell_type": "code",
   "execution_count": 2,
   "metadata": {},
   "outputs": [
    {
     "name": "stdout",
     "output_type": "stream",
     "text": [
      "b'hello ,tf'\n"
     ]
    }
   ],
   "source": [
    "import tensorflow as tf\n",
    "hello=tf.constant('hello ,tf')\n",
    "sess=tf.Session()\n",
    "print(sess.run(hello))"
   ]
  },
  {
   "cell_type": "code",
   "execution_count": 1,
   "metadata": {},
   "outputs": [
    {
     "name": "stdout",
     "output_type": "stream",
     "text": [
      "hello cv2\n"
     ]
    }
   ],
   "source": [
    "import cv2\n",
    "print('hello cv2')"
   ]
  },
  {
   "cell_type": "code",
   "execution_count": 10,
   "metadata": {},
   "outputs": [
    {
     "data": {
      "text/plain": [
       "27"
      ]
     },
     "execution_count": 10,
     "metadata": {},
     "output_type": "execute_result"
    }
   ],
   "source": [
    "#1 引入OpenCV 2 API 3 stop\n",
    "import cv2\n",
    "img=cv2.imread('image0.jpg',1) #read image 1 name 2 0 gray 1 color\n",
    "cv2.imshow('image',img) #1 name 2 img\n",
    "#jpg png 1.文件头 2 文件数据\n",
    "cv2.waitKey(0)"
   ]
  },
  {
   "cell_type": "code",
   "execution_count": 4,
   "metadata": {},
   "outputs": [
    {
     "data": {
      "text/plain": [
       "True"
      ]
     },
     "execution_count": 4,
     "metadata": {},
     "output_type": "execute_result"
    }
   ],
   "source": [
    "import cv2\n",
    "img=cv2.imread('image0.jpg',1)\n",
    "cv2.imwrite('image1.jpg',img) #1 name 2 data"
   ]
  },
  {
   "cell_type": "code",
   "execution_count": 6,
   "metadata": {},
   "outputs": [
    {
     "data": {
      "text/plain": [
       "True"
      ]
     },
     "execution_count": 6,
     "metadata": {},
     "output_type": "execute_result"
    }
   ],
   "source": [
    "import cv2\n",
    "img=cv2.imread('image0.jpg',1)\n",
    "cv2.imwrite('imagetest.jpg',img,[cv2.IMWRITE_JPEG_QUALITY,50]) #1 name 2 data"
   ]
  },
  {
   "cell_type": "code",
   "execution_count": 7,
   "metadata": {},
   "outputs": [
    {
     "data": {
      "text/plain": [
       "True"
      ]
     },
     "execution_count": 7,
     "metadata": {},
     "output_type": "execute_result"
    }
   ],
   "source": [
    "#1 无损 2 透明度属性\n",
    "import cv2\n",
    "img=cv2.imread('image0.jpg',1)\n",
    "cv2.imwrite('imagetest.png',img,[cv2.IMWRITE_PNG_COMPRESSION,0]) #1 name 2 data\n",
    "# jpg 0 压缩比高（0-100） png 0 压缩比低（0-9）"
   ]
  },
  {
   "cell_type": "code",
   "execution_count": null,
   "metadata": {},
   "outputs": [
    {
     "name": "stdout",
     "output_type": "stream",
     "text": [
      "135 139 158\n"
     ]
    }
   ],
   "source": [
    "#像素操作\n",
    "import cv2\n",
    "img = cv2.imread('image0.jpg',1)\n",
    "(b,g,r)=img[100,100]\n",
    "print(b,g,r)\n",
    "#10 100 -- 110 100\n",
    "for i in range(1,100):\n",
    "    img[10+i,100]=(255,0,0)\n",
    "cv2.imshow('image',img)\n",
    "cv2.waitKey(0) #1000ms"
   ]
  },
  {
   "cell_type": "code",
   "execution_count": null,
   "metadata": {},
   "outputs": [],
   "source": []
  }
 ],
 "metadata": {
  "kernelspec": {
   "display_name": "Python 3",
   "language": "python",
   "name": "python3"
  },
  "language_info": {
   "codemirror_mode": {
    "name": "ipython",
    "version": 3
   },
   "file_extension": ".py",
   "mimetype": "text/x-python",
   "name": "python",
   "nbconvert_exporter": "python",
   "pygments_lexer": "ipython3",
   "version": "3.6.8"
  }
 },
 "nbformat": 4,
 "nbformat_minor": 2
}
