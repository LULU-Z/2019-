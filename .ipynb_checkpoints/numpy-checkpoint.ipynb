{
 "cells": [
  {
   "cell_type": "code",
   "execution_count": 8,
   "metadata": {},
   "outputs": [
    {
     "name": "stdout",
     "output_type": "stream",
     "text": [
      "[[1 2 3 4 5]]\n",
      "[[1 2]\n",
      " [3 4]]\n",
      "(1, 5)\n",
      "(2, 2)\n",
      "[[ 0.  0.  0.]\n",
      " [ 0.  0.  0.]] [[ 1.  1.]\n",
      " [ 1.  1.]]\n"
     ]
    }
   ],
   "source": [
    "import numpy as np\n",
    "data1=np.array([[1,2,3,4,5]])\n",
    "print(data1)\n",
    "data2=np.array([[1,2],\n",
    "               [3,4]])\n",
    "print(data2)\n",
    "#维度\n",
    "print(data1.shape)\n",
    "print(data2.shape)\n",
    "#zeros ones\n",
    "print(np.zeros([2,3]),np.ones([2,2]))\n",
    "#改查"
   ]
  },
  {
   "cell_type": "code",
   "execution_count": null,
   "metadata": {},
   "outputs": [],
   "source": []
  },
  {
   "cell_type": "code",
   "execution_count": null,
   "metadata": {},
   "outputs": [],
   "source": []
  }
 ],
 "metadata": {
  "kernelspec": {
   "display_name": "Python 3",
   "language": "python",
   "name": "python3"
  },
  "language_info": {
   "codemirror_mode": {
    "name": "ipython",
    "version": 3
   },
   "file_extension": ".py",
   "mimetype": "text/x-python",
   "name": "python",
   "nbconvert_exporter": "python",
   "pygments_lexer": "ipython3",
   "version": "3.6.8"
  }
 },
 "nbformat": 4,
 "nbformat_minor": 2
}
