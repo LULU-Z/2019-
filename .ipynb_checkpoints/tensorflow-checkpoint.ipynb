{
 "cells": [
  {
   "cell_type": "code",
   "execution_count": 13,
   "metadata": {},
   "outputs": [
    {
     "name": "stdout",
     "output_type": "stream",
     "text": [
      "Tensor(\"Const_10:0\", shape=(), dtype=int32)\n",
      "<tf.Variable 'var_10:0' shape=() dtype=int32_ref>\n",
      "10\n"
     ]
    }
   ],
   "source": [
    "#opencv tensorflow\n",
    "#类比 语法 api 原理\n",
    "#基础数据类型 运算符 流程 字典 数组\n",
    "import tensorflow as tf\n",
    "data1=tf.constant(2,dtype=tf.int32)\n",
    "data2=tf.Variable(10,name='var')\n",
    "print(data1)\n",
    "print(data2)\n",
    "'''sess=tf.Session()\n",
    "print(sess.run(data1))\n",
    "init=tf.global_variables_initializer()\n",
    "sess.run(init)\n",
    "print(sess.run(data2))\n",
    "sess.close()\n",
    "'''\n",
    "init=tf.global_variables_initializer()\n",
    "sess=tf.Session()\n",
    "with sess:\n",
    "    sess.run(init)\n",
    "    print(sess.run(data2))\n"
   ]
  },
  {
   "cell_type": "code",
   "execution_count": 14,
   "metadata": {},
   "outputs": [],
   "source": [
    "#本质 ft=sensor+计算图\n",
    "#tensor 数据\n",
    "#op\n",
    "#graphs 数据操作\n",
    "#session"
   ]
  },
  {
   "cell_type": "code",
   "execution_count": 19,
   "metadata": {},
   "outputs": [
    {
     "name": "stdout",
     "output_type": "stream",
     "text": [
      "8\n",
      "12\n",
      "4\n",
      "3.0\n",
      "end!\n"
     ]
    }
   ],
   "source": [
    "import tensorflow as tf\n",
    "data1=tf.constant(6)\n",
    "data2=tf.constant(2)\n",
    "dataAdd=tf.add(data1,data2)\n",
    "dataMul=tf.multiply(data1,data2)\n",
    "dataSub=tf.subtract(data1,data2)\n",
    "dataDiv=tf.divide(data1,data2)\n",
    "with tf.Session() as sess:\n",
    "    print(sess.run(dataAdd))\n",
    "    print(sess.run(dataMul))\n",
    "    print(sess.run(dataSub))\n",
    "    print(sess.run(dataDiv))\n",
    "print('end!')"
   ]
  },
  {
   "cell_type": "code",
   "execution_count": 34,
   "metadata": {},
   "outputs": [
    {
     "name": "stdout",
     "output_type": "stream",
     "text": [
      "8\n",
      "12\n",
      "4\n",
      "3.0\n",
      "8\n",
      "14\n",
      "20\n",
      "26\n",
      "end!\n"
     ]
    }
   ],
   "source": [
    "import tensorflow as tf\n",
    "data1=tf.constant(6)\n",
    "data2=tf.Variable(2)\n",
    "dataAdd=tf.add(data1,data2)\n",
    "dataCopy=tf.assign(data2,dataAdd)\n",
    "dataMul=tf.multiply(data1,data2)\n",
    "dataSub=tf.subtract(data1,data2)\n",
    "dataDiv=tf.divide(data1,data2)\n",
    "init=tf.global_variables_initializer()\n",
    "\n",
    "with tf.Session() as sess:\n",
    "    sess.run(init)\n",
    "    print(sess.run(dataAdd))\n",
    "    print(sess.run(dataMul))\n",
    "    print(sess.run(dataSub))\n",
    "    print(sess.run(dataDiv))\n",
    "    print(sess.run(dataCopy))\n",
    "    print(dataCopy.eval())\n",
    "    print(tf.get_default_session().run(dataCopy))\n",
    "    print(sess.run(dataCopy))\n",
    "    \n",
    "print('end!')"
   ]
  },
  {
   "cell_type": "code",
   "execution_count": 7,
   "metadata": {},
   "outputs": [
    {
     "name": "stdout",
     "output_type": "stream",
     "text": [
      "8.0\n",
      "end!\n"
     ]
    }
   ],
   "source": [
    "#placehold\n",
    "import tensorflow as tf\n",
    "data1=tf.placeholder(tf.float32)\n",
    "data2=tf.placeholder(tf.float32)\n",
    "dataAdd=tf.add(data1,data2)\n",
    "with tf.Session() as sess:\n",
    "    print(sess.run(dataAdd,feed_dict={data1:6,data2:2}))\n",
    "    #1 dataAdd 2 data (feed_dict={1:6,2:2})\n",
    "print('end!')"
   ]
  },
  {
   "cell_type": "code",
   "execution_count": 19,
   "metadata": {},
   "outputs": [
    {
     "name": "stdout",
     "output_type": "stream",
     "text": [
      "(1, 2)\n",
      "[[1 2]\n",
      " [3 4]\n",
      " [5 6]]\n",
      "[1 2]\n",
      "[1 3 5]\n",
      "1\n"
     ]
    }
   ],
   "source": [
    "# 类比 数组 M行N列[]  内部\n",
    "#[[6,6]]\n",
    "import tensorflow as tf\n",
    "data1=tf.constant([[6,6]])\n",
    "data2=tf.constant([[2],\n",
    "                  [2]])\n",
    "data3=tf.constant([[3,3]])\n",
    "data4=tf.constant([[1,2],\n",
    "                  [3,4],\n",
    "                  [5,6]])\n",
    "print(data1.shape)\n",
    "with tf.Session() as sess:\n",
    "    print(sess.run(data4))\n",
    "    print(sess.run(data4[0]))\n",
    "    print(sess.run(data4[:,0]))\n",
    "    print(sess.run(data4[0,0]))"
   ]
  },
  {
   "cell_type": "code",
   "execution_count": 32,
   "metadata": {},
   "outputs": [
    {
     "name": "stdout",
     "output_type": "stream",
     "text": [
      "[[24]]\n",
      "[[9 9]]\n",
      "[[ 6  6]\n",
      " [12 12]\n",
      " [18 18]\n",
      " [24 24]]\n",
      "[array([[9, 9]]), array([[24]]), array([[ 6,  6],\n",
      "       [12, 12],\n",
      "       [18, 18],\n",
      "       [24, 24]])]\n"
     ]
    }
   ],
   "source": [
    "import tensorflow as tf\n",
    "data1=tf.constant([[6,6]])\n",
    "data2=tf.constant([[2],\n",
    "                  [2]])\n",
    "data3=tf.constant([[3,3]])\n",
    "data4=tf.constant([[1,2],\n",
    "                  [3,4],\n",
    "                  [5,6]])\n",
    "data5=tf.constant([[1],[2],[3],[4]])\n",
    "matMul=tf.matmul(data1,data2)\n",
    "matAdd=tf.add(data1,data3)\n",
    "matMul2=tf.multiply(data1,data5)\n",
    "with tf.Session() as sess:\n",
    "    print(sess.run(matMul))\n",
    "    print(sess.run(matAdd))\n",
    "    print(sess.run(matMul2))\n",
    "    print(sess.run([matAdd,matMul,matMul2]))"
   ]
  },
  {
   "cell_type": "code",
   "execution_count": 37,
   "metadata": {},
   "outputs": [
    {
     "name": "stdout",
     "output_type": "stream",
     "text": [
      "[[0 0 0]\n",
      " [0 0 0]]\n",
      "[[ 0.  0.  0.]\n",
      " [ 0.  0.  0.]]\n",
      "[[ 1.  1.]\n",
      " [ 1.  1.]\n",
      " [ 1.  1.]]\n",
      "[[15 15 15]\n",
      " [15 15 15]]\n"
     ]
    }
   ],
   "source": [
    "import tensorflow as tf\n",
    "mat0 = tf.constant([[0,0,0],[0,0,0]])\n",
    "mat1 = tf.zeros([2,3])\n",
    "mat2 = tf.ones([3,2])\n",
    "mat3 = tf.fill([2,3],15)\n",
    "with tf.Session() as sess:\n",
    "    print(sess.run(mat0))\n",
    "    print(sess.run(mat1))\n",
    "    print(sess.run(mat2))\n",
    "    print(sess.run(mat3))"
   ]
  },
  {
   "cell_type": "code",
   "execution_count": 45,
   "metadata": {},
   "outputs": [
    {
     "name": "stdout",
     "output_type": "stream",
     "text": [
      "[[0]\n",
      " [0]\n",
      " [0]]\n",
      "[ 0.          0.2         0.40000001  0.60000002  0.80000001  1.\n",
      "  1.20000005  1.39999998  1.60000002  1.80000007  2.        ]\n",
      "[[ 1.9998548  -0.50301242  0.4119277 ]\n",
      " [-0.6352582  -0.6714952   0.57109714]]\n"
     ]
    }
   ],
   "source": [
    "import tensorflow as tf\n",
    "mat1=tf.constant([[2],[3],[4]])\n",
    "mat2=tf.zeros_like(mat1)\n",
    "mat3=tf.linspace(0.0,2.0,11)\n",
    "mat4=tf.random_uniform([2,3],-1,2)\n",
    "with tf.Session() as sess:\n",
    "    print(sess.run(mat2))\n",
    "    print(sess.run(mat3))\n",
    "    print(sess.run(mat4))"
   ]
  },
  {
   "cell_type": "code",
   "execution_count": null,
   "metadata": {},
   "outputs": [],
   "source": []
  },
  {
   "cell_type": "code",
   "execution_count": null,
   "metadata": {},
   "outputs": [],
   "source": []
  }
 ],
 "metadata": {
  "kernelspec": {
   "display_name": "Python 3",
   "language": "python",
   "name": "python3"
  },
  "language_info": {
   "codemirror_mode": {
    "name": "ipython",
    "version": 3
   },
   "file_extension": ".py",
   "mimetype": "text/x-python",
   "name": "python",
   "nbconvert_exporter": "python",
   "pygments_lexer": "ipython3",
   "version": "3.6.8"
  }
 },
 "nbformat": 4,
 "nbformat_minor": 2
}
