{
 "cells": [
  {
   "cell_type": "code",
   "execution_count": null,
   "metadata": {},
   "outputs": [],
   "source": [
    "#1 样本 2 特征 3 分类器 4预测 检验\n",
    "#haar + adaboost->face\n",
    "#haar 模板 adaboost 三级（强分类器 弱分类器 node）\n",
    "#hog 模板 svm 向量机 小狮子识别\n"
   ]
  },
  {
   "cell_type": "code",
   "execution_count": 7,
   "metadata": {},
   "outputs": [
    {
     "name": "stdout",
     "output_type": "stream",
     "text": [
      "<built-in method isOpened of cv2.VideoCapture object at 0x0000028174F6BE90>\n",
      "0.0 0 0\n",
      "image1.jpg\n",
      "image2.jpg\n",
      "image3.jpg\n",
      "image4.jpg\n",
      "image5.jpg\n",
      "image6.jpg\n",
      "image7.jpg\n",
      "image8.jpg\n",
      "image9.jpg\n",
      "image10.jpg\n",
      "end!\n"
     ]
    }
   ],
   "source": [
    "#视频分解图片\n",
    "# 1 load 3 info 3 parse 4 imshow 5 imwrite\n",
    "import cv2\n",
    "cap=cv2.VideoCapture(\"老虎.mp4\")#获取一个视频打开cpa 1 file name\n",
    "isOpened=cap.isOpened#判断是否打开\n",
    "print(isOpened)\n",
    "fps=cap.get(cv2.CAP_PROP_FPS)\n",
    "width=int(cap.get(cv2.CAP_PROP_FRAME_WIDTH))\n",
    "height=int(cap.get(cv2.CAP_PROP_FRAME_HEIGHT))\n",
    "print(fps,width,height)\n",
    "i=0\n",
    "while(isOpened):\n",
    "    if i ==10:\n",
    "        break;\n",
    "    else:\n",
    "        i=i+1\n",
    "    (flag,frame)=cap.read()#读取每一张flag frame\n",
    "    fileName='image'+str(i)+'.jpg'\n",
    "    print(fileName)\n",
    "    if(flag==True):\n",
    "        cv.imwrite(fileName,frame,[cv2.IMWRITE_JPEG_QUALITY,100])\n",
    "print('end!')"
   ]
  },
  {
   "cell_type": "code",
   "execution_count": 10,
   "metadata": {},
   "outputs": [
    {
     "ename": "SyntaxError",
     "evalue": "invalid character in identifier (<ipython-input-10-84ddcb5e9088>, line 16)",
     "output_type": "error",
     "traceback": [
      "\u001b[1;36m  File \u001b[1;32m\"<ipython-input-10-84ddcb5e9088>\"\u001b[1;36m, line \u001b[1;32m16\u001b[0m\n\u001b[1;33m    #读取每一帧 或者每一张图片 flag 是否成功 frame\u001b[0m\n\u001b[1;37m    ^\u001b[0m\n\u001b[1;31mSyntaxError\u001b[0m\u001b[1;31m:\u001b[0m invalid character in identifier\n"
     ]
    }
   ],
   "source": [
    "import cv2\n",
    "#load 本地视频\n",
    "cap = cv2.VideoCapture(\"11.mp4\")\n",
    "#看看是不是能打开\n",
    "isOpened = cap.isOpened()\n",
    "fps = cap.get(cv2.CAP_PROP_FPS)\n",
    "imgW = int(cap.get(cv2.CAP_PROP_FRAME_WIDTH))\n",
    "imgH = int(cap.get(cv2.CAP_PROP_FRAME_HEIGHT))\n",
    "print(isOpened,fps,imgW,imgH)\n",
    "i = 0 #用于记录获取了多少张图片\n",
    "while(isOpened):\n",
    "    if i ==10:\n",
    "        break;\n",
    "    else:\n",
    "        i=i+1\n",
    "    (flag,frame)=cap.read()#读取每一张flag frame\n",
    "    fileName='image'+str(i)+'.jpg'\n",
    "    print(fileName)\n",
    "    if(flag==True):\n",
    "        cv.imwrite(fileName,frame,[cv2.IMWRITE_JPEG_QUALITY,100])\n",
    "print('end!')"
   ]
  },
  {
   "cell_type": "code",
   "execution_count": null,
   "metadata": {},
   "outputs": [],
   "source": []
  }
 ],
 "metadata": {
  "kernelspec": {
   "display_name": "Python 3",
   "language": "python",
   "name": "python3"
  },
  "language_info": {
   "codemirror_mode": {
    "name": "ipython",
    "version": 3
   },
   "file_extension": ".py",
   "mimetype": "text/x-python",
   "name": "python",
   "nbconvert_exporter": "python",
   "pygments_lexer": "ipython3",
   "version": "3.6.8"
  }
 },
 "nbformat": 4,
 "nbformat_minor": 2
}
