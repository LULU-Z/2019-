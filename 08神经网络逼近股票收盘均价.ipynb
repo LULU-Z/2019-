{
 "cells": [
  {
   "cell_type": "code",
   "execution_count": 2,
   "metadata": {},
   "outputs": [
    {
     "name": "stdout",
     "output_type": "stream",
     "text": [
      "[  1.   2.   3.   4.   5.   6.   7.   8.   9.  10.  11.  12.  13.  14.  15.]\n"
     ]
    },
    {
     "data": {
      "image/png": "[encoded data removed]",
      "text/plain": [
       "<matplotlib.figure.Figure at 0x258b8df1b70>"
      ]
     },
     "metadata": {
      "needs_background": "light"
     },
     "output_type": "display_data"
    }
   ],
   "source": [
    "import tensorflow as tf\n",
    "import numpy as np\n",
    "import matplotlib.pyplot as plt\n",
    "date=np.linspace(1,15,15)\n",
    "endPrice=np.array([2511.90,2538,26,2510.68,2591.66,2732.98,2701.69,2701.29,2678.50,2739.17,2715.07,2823.558,2864.90,2919.08,2701.69,2701.29,2678.50])\n",
    "beginPrice=np.array([2438.71,2500.88,2534.95,2512.52,2594.04,2743.26,2697.47,2695.24,2678.23,2722.13,2674.93,2744.13,2717.46,2832.73,2877.40])\n",
    "print(date)\n",
    "plt.figure()\n",
    "for i in range(0,15):\n",
    "    #1柱状图\n",
    "    dateOne=np.zeros([2])\n",
    "    dateOne[0]=i;\n",
    "    dateOne[1]=i;\n",
    "    priceOne=np.zeros([2])\n",
    "    priceOne[0]=beginPrice[i]\n",
    "    priceOne[1]=endPrice[i]\n",
    "    if endPrice[i]>beginPrice[i]:\n",
    "        plt.plot(dateOne,priceOne,'r',lw=10)\n",
    "    else:\n",
    "        plt.plot(dateOne,priceOne,'g',lw=8)\n",
    "plt.show()\n"
   ]
  },
  {
   "cell_type": "code",
   "execution_count": 5,
   "metadata": {},
   "outputs": [
    {
     "name": "stdout",
     "output_type": "stream",
     "text": [
      "[  1.   2.   3.   4.   5.   6.   7.   8.   9.  10.  11.  12.  13.  14.  15.]\n"
     ]
    },
    {
     "data": {
      "image/png": "[encoded data removed]",
      "text/plain": [
       "<matplotlib.figure.Figure at 0x258ba0e4518>"
      ]
     },
     "metadata": {
      "needs_background": "light"
     },
     "output_type": "display_data"
    }
   ],
   "source": [
    "import tensorflow as tf\n",
    "import numpy as np\n",
    "import matplotlib.pyplot as plt\n",
    "date=np.linspace(1,15,15)\n",
    "endPrice=np.array([2511.90,2538,26,2510.68,2591.66,2732.98,2701.69,2701.29,2678.50,2739.17,2715.07,2823.558,2864.90,2919.08,2701.69,2701.29,2678.50])\n",
    "beginPrice=np.array([2438.71,2500.88,2534.95,2512.52,2594.04,2743.26,2697.47,2695.24,2678.23,2722.13,2674.93,2744.13,2717.46,2832.73,2877.40])\n",
    "print(date)\n",
    "plt.figure()\n",
    "for i in range(0,15):\n",
    "    #1柱状图\n",
    "    dateOne=np.zeros([2])\n",
    "    dateOne[0]=i;\n",
    "    dateOne[1]=i;\n",
    "    priceOne=np.zeros([2])\n",
    "    priceOne[0]=beginPrice[i]\n",
    "    priceOne[1]=endPrice[i]\n",
    "    if endPrice[i]>beginPrice[i]:\n",
    "        plt.plot(dateOne,priceOne,'r',lw=10)\n",
    "    else:\n",
    "        plt.plot(dateOne,priceOne,'g',lw=8)\n",
    "#plt.show()\n",
    "#A\n",
    "dataNormal=np.zeros([15,1])\n",
    "priceNormal=np.zeros([15,1])\n",
    "for i in range(0,15):\n",
    "    dataNormal=i/14.0;\n",
    "    priceNormal=endPrice[i]/3000.0;\n",
    "x=tf.placeholder(tf.float32,[None,1])\n",
    "y=tf.placeholder(tf.float32,[None,1])\n",
    "#B隐藏层\n",
    "#初始值0最大值1\n",
    "w1=tf.Variable(tf.random_uniform([1,10],0,1))\n",
    "b1=tf.Variable(tf.zero([1,10]))\n",
    "wb1=tf.matmul(x,w1)+b1\n",
    "#激励函数 把结果变成另外一个\n",
    "layer1=tf.nn.relu(wb1)#激励函数\n"
   ]
  },
  {
   "cell_type": "code",
   "execution_count": null,
   "metadata": {},
   "outputs": [],
   "source": []
  },
  {
   "cell_type": "code",
   "execution_count": null,
   "metadata": {},
   "outputs": [],
   "source": []
  }
 ],
 "metadata": {
  "kernelspec": {
   "display_name": "Python 3",
   "language": "python",
   "name": "python3"
  },
  "language_info": {
   "codemirror_mode": {
    "name": "ipython",
    "version": 3
   },
   "file_extension": ".py",
   "mimetype": "text/x-python",
   "name": "python",
   "nbconvert_exporter": "python",
   "pygments_lexer": "ipython3",
   "version": "3.6.8"
  }
 },
 "nbformat": 4,
 "nbformat_minor": 2
}
