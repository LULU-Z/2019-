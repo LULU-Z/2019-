{
 "cells": [
  {
   "cell_type": "code",
   "execution_count": null,
   "metadata": {},
   "outputs": [],
   "source": [
    "import cv2\n",
    "import numpy as np\n",
    "img=cv2.imread('image0.jpg',1)\n",
    "font=cv2.FONT_HERSHEY_SIMPLEX\n",
    "cv2.rectangle(img,(200,200),(500,400),(0,255,0),3)\n",
    "cv2.putText(img,'this is flow',(100,300),font,1,(200,100,255),2,cv2.LINE_AA) #5大小 7粗细 8类型\n",
    "cv2.imshow('img',img)\n",
    "cv2.waitKey(0)"
   ]
  },
  {
   "cell_type": "code",
   "execution_count": null,
   "metadata": {},
   "outputs": [],
   "source": [
    "import cv2\n",
    "import numpy as np\n",
    "img=cv2.imread('image0.jpg',1)\n",
    "height=int(img.shape[0]*0.2)\n",
    "width=int(img.shape[0]*0.2)\n",
    "imgResize=cv2.resize(img,(width,height))\n",
    "cv2.imshow('imgReszie',imgResize)\n",
    "for i in range(0,height):\n",
    "    for j in range(0,width):\n",
    "        img[i+200,j+350]=imgResize[i,j]\n",
    "cv2.imshow('img',img)\n",
    "cv2.waitKey(0)"
   ]
  },
  {
   "cell_type": "code",
   "execution_count": null,
   "metadata": {},
   "outputs": [],
   "source": []
  },
  {
   "cell_type": "code",
   "execution_count": null,
   "metadata": {},
   "outputs": [],
   "source": []
  }
 ],
 "metadata": {
  "kernelspec": {
   "display_name": "Python 3",
   "language": "python",
   "name": "python3"
  }
 },
 "nbformat": 4,
 "nbformat_minor": 2
}
