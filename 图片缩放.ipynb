{
 "cells": [
  {
   "cell_type": "code",
   "execution_count": null,
   "metadata": {},
   "outputs": [
    {
     "name": "stdout",
     "output_type": "stream",
     "text": [
      "(1200, 1800, 3)\n"
     ]
    }
   ],
   "source": [
    "#1 load 2 info 3 resize 4 check\n",
    "import cv2\n",
    "img=cv2.imread('image0.jpg',1)#1 彩色\n",
    "imgInfo=img.shape\n",
    "print(imgInfo)\n",
    "height=imgInfo[0]\n",
    "width=imgInfo[1]\n",
    "mpde=imgInfo[2]\n",
    "#1 放大 缩小 2 等比例 非\n",
    "dstHeight=int(height*0.3)\n",
    "dstWidth=int(width*0.3)\n",
    "#最近临域差值 双线性差值 像素关系重采样 立方差值\n",
    "dst = cv2.resize(img,(dstWidth,dstHeight))\n",
    "cv2.imshow('image',dst)\n",
    "cv2.waitKey(0)"
   ]
  },
  {
   "cell_type": "code",
   "execution_count": null,
   "metadata": {},
   "outputs": [],
   "source": [
    "#最近临域差值 双线性差值 原理\n",
    "#src 10*20 dst 3*10\n",
    "#dst<-src\n",
    "#(1,2)<-(2,4)\n",
    "#dst x->src x 2 newX\n",
    "#newX=x*(src 行/目标 行)  \n",
    "#newY=x*(src 列/目标 列)  \n",
    "#12.3=12\n",
    "\n",
    "#双线性差值法\n",
    "#A1=20%上+80%下\n",
    "#B1=30%左+70%右\n",
    "#1 终点 =A1*30%+A2*70%\n",
    "#2 终点=B1*20%+B2*80%"
   ]
  },
  {
   "cell_type": "code",
   "execution_count": null,
   "metadata": {},
   "outputs": [],
   "source": [
    "#info 2 空白模板 3 xy\n",
    "#最近临域差值法\n",
    "import cv2\n",
    "import numpy as np\n",
    "img=cv2.imread('image0.jpg',1)\n",
    "imgInfo=img.shape\n",
    "height=imgInfo[0]\n",
    "width=imgInfo[1]\n",
    "dstHeight=int(height/2)\n",
    "dstWidth=int(width/2)\n",
    "dstImage=np.zeros((dstHeight,dstWidth,3),np.uint8)#0-255\n",
    "for i in range(0,dstHeight):#行\n",
    "    for j in range(0,dstWidth):#列\n",
    "        iNew=int(i*(height*1.0/dstHeight))\n",
    "        jNew=int(j*(width*1.0/dstWidth))\n",
    "        dstImage[i,j]=img[iNew,jNew]\n",
    "cv2.imshow('dst',dstImage)\n",
    "cv2.waitKey(0)\n",
    "    "
   ]
  },
  {
   "cell_type": "code",
   "execution_count": null,
   "metadata": {},
   "outputs": [],
   "source": []
  }
 ],
 "metadata": {
  "kernelspec": {
   "display_name": "Python 3",
   "language": "python",
   "name": "python3"
  },
  "language_info": {
   "codemirror_mode": {
    "name": "ipython",
    "version": 3
   },
   "file_extension": ".py",
   "mimetype": "text/x-python",
   "name": "python",
   "nbconvert_exporter": "python",
   "pygments_lexer": "ipython3",
   "version": "3.6.8"
  }
 },
 "nbformat": 4,
 "nbformat_minor": 2
}
